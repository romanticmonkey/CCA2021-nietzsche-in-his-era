{
 "cells": [
  {
   "cell_type": "markdown",
   "metadata": {},
   "source": [
    "In this notebook, I will explore how Nietzsche's work plays out in different embedding spaces. In particular, I will explore the following point:\n",
    "- what word relationships exist in the Nietzsche corpus itself,\n",
    "- where does Nietzsche stand among modern philosophers, and\n",
    "- how does Nietzsche and other philosophers span out in the general corpus (here I use Google News word2vec)"
   ]
  },
  {
   "cell_type": "code",
   "execution_count": 2,
   "metadata": {},
   "outputs": [],
   "source": [
    "import gensim\n",
    "import lucem_illud\n",
    "import numpy as np \n",
    "import pandas as pd\n",
    "import matplotlib.pyplot as plt \n",
    "import seaborn as sns\n",
    "import sklearn.metrics.pairwise \n",
    "import sklearn.manifold \n",
    "from sklearn.decomposition import PCA\n",
    "\n",
    "%matplotlib inline\n",
    "\n",
    "import os\n",
    "import os.path "
   ]
  },
  {
   "cell_type": "code",
   "execution_count": 3,
   "metadata": {},
   "outputs": [
    {
     "data": {
      "text/html": [
       "<div>\n",
       "<style scoped>\n",
       "    .dataframe tbody tr th:only-of-type {\n",
       "        vertical-align: middle;\n",
       "    }\n",
       "\n",
       "    .dataframe tbody tr th {\n",
       "        vertical-align: top;\n",
       "    }\n",
       "\n",
       "    .dataframe thead th {\n",
       "        text-align: right;\n",
       "    }\n",
       "</style>\n",
       "<table border=\"1\" class=\"dataframe\">\n",
       "  <thead>\n",
       "    <tr style=\"text-align: right;\">\n",
       "      <th></th>\n",
       "      <th>text</th>\n",
       "      <th>book</th>\n",
       "      <th>year</th>\n",
       "      <th>after_1879</th>\n",
       "      <th>elisabeth_published</th>\n",
       "      <th>tokens</th>\n",
       "      <th>normalized_tokens</th>\n",
       "    </tr>\n",
       "  </thead>\n",
       "  <tbody>\n",
       "    <tr>\n",
       "      <th>13766</th>\n",
       "      <td>They had rated the intellectuality of mankind ...</td>\n",
       "      <td>human2</td>\n",
       "      <td>1880</td>\n",
       "      <td>1</td>\n",
       "      <td>0</td>\n",
       "      <td>[['They', 'had', 'rated', 'the', 'intellectual...</td>\n",
       "      <td>[[rate, intellectuality, mankind, highly, vow,...</td>\n",
       "    </tr>\n",
       "    <tr>\n",
       "      <th>27117</th>\n",
       "      <td>Individual power is by no means surrendered th...</td>\n",
       "      <td>will3-4</td>\n",
       "      <td>1901</td>\n",
       "      <td>1</td>\n",
       "      <td>1</td>\n",
       "      <td>[['Individual', 'power', 'is', 'by', 'no', 'me...</td>\n",
       "      <td>[[individual, power, mean, surrender]]</td>\n",
       "    </tr>\n",
       "    <tr>\n",
       "      <th>14855</th>\n",
       "      <td>Let us be on our guard against saying that the...</td>\n",
       "      <td>joyful</td>\n",
       "      <td>1887</td>\n",
       "      <td>1</td>\n",
       "      <td>0</td>\n",
       "      <td>[['Let', 'us', 'be', 'on', 'our', 'guard', 'ag...</td>\n",
       "      <td>[[let, guard, say, law, nature]]</td>\n",
       "    </tr>\n",
       "    <tr>\n",
       "      <th>7580</th>\n",
       "      <td>O Melancholy, be not wroth with me That I this...</td>\n",
       "      <td>eccehomo</td>\n",
       "      <td>1888</td>\n",
       "      <td>1</td>\n",
       "      <td>1</td>\n",
       "      <td>[['O', 'Melancholy', 'be', 'not', 'wroth', 'wi...</td>\n",
       "      <td>[[o, melancholy, wroth'], ['pen, point, praise...</td>\n",
       "    </tr>\n",
       "    <tr>\n",
       "      <th>24216</th>\n",
       "      <td>They serve us as refuges, such as a wanderer m...</td>\n",
       "      <td>will1-2</td>\n",
       "      <td>1901</td>\n",
       "      <td>1</td>\n",
       "      <td>1</td>\n",
       "      <td>[['They', 'serve', 'us', 'as', 'refuges', 'suc...</td>\n",
       "      <td>[[serve, refuge, wanderer, require, usebut, av...</td>\n",
       "    </tr>\n",
       "  </tbody>\n",
       "</table>\n",
       "</div>"
      ],
      "text/plain": [
       "                                                    text      book  year  \\\n",
       "13766  They had rated the intellectuality of mankind ...    human2  1880   \n",
       "27117  Individual power is by no means surrendered th...   will3-4  1901   \n",
       "14855  Let us be on our guard against saying that the...    joyful  1887   \n",
       "7580   O Melancholy, be not wroth with me That I this...  eccehomo  1888   \n",
       "24216  They serve us as refuges, such as a wanderer m...   will1-2  1901   \n",
       "\n",
       "       after_1879  elisabeth_published  \\\n",
       "13766           1                    0   \n",
       "27117           1                    1   \n",
       "14855           1                    0   \n",
       "7580            1                    1   \n",
       "24216           1                    1   \n",
       "\n",
       "                                                  tokens  \\\n",
       "13766  [['They', 'had', 'rated', 'the', 'intellectual...   \n",
       "27117  [['Individual', 'power', 'is', 'by', 'no', 'me...   \n",
       "14855  [['Let', 'us', 'be', 'on', 'our', 'guard', 'ag...   \n",
       "7580   [['O', 'Melancholy', 'be', 'not', 'wroth', 'wi...   \n",
       "24216  [['They', 'serve', 'us', 'as', 'refuges', 'suc...   \n",
       "\n",
       "                                       normalized_tokens  \n",
       "13766  [[rate, intellectuality, mankind, highly, vow,...  \n",
       "27117             [[individual, power, mean, surrender]]  \n",
       "14855                   [[let, guard, say, law, nature]]  \n",
       "7580   [[o, melancholy, wroth'], ['pen, point, praise...  \n",
       "24216  [[serve, refuge, wanderer, require, usebut, av...  "
      ]
     },
     "execution_count": 3,
     "metadata": {},
     "output_type": "execute_result"
    }
   ],
   "source": [
    "# loading Nietzsche corpus\n",
    "#nietzsche_df = pd.read_csv('data/nietzsche_gutenberg.csv')\n",
    "nietzsche_df = pd.read_csv('data/nietzsche_gutenberg_tokenized.csv')\n",
    "nietzsche_df['normalized_tokens'] = nietzsche_df.normalized_tokens.apply(lambda x: [[w.strip(\"'\") for w in x.strip('][').split(', ')]])\n",
    "nietzsche_df.sample(5)"
   ]
  },
  {
   "cell_type": "code",
   "execution_count": 4,
   "metadata": {},
   "outputs": [],
   "source": [
    "# tokenization\n",
    "#nietzsche_df['tokens'] = nietzsche_df.text.apply(lambda x: [lucem_illud.word_tokenize(s) for s in lucem_illud.sent_tokenize(x)])\n",
    "#nietzsche_df['normalized_tokens'] = nietzsche_df.tokens.apply(lambda x: [lucem_illud.normalizeTokens(s) for s in x])"
   ]
  },
  {
   "cell_type": "code",
   "execution_count": 5,
   "metadata": {},
   "outputs": [],
   "source": [
    "# store the file\n",
    "#nietzsche_df.to_csv('data/nietzsche_gutenberg_tokenized.csv', index=False)"
   ]
  },
  {
   "cell_type": "markdown",
   "metadata": {},
   "source": [
    "## A simple word2vec on Nietzsche's text alone"
   ]
  },
  {
   "cell_type": "code",
   "execution_count": 8,
   "metadata": {},
   "outputs": [],
   "source": [
    "# Build w2v model on Nietzsche corpus\n",
    "# nietzscheW2V = gensim.models.word2vec.Word2Vec(nietzsche_df.normalized_tokens.sum())\n",
    "nietzscheW2V = gensim.models.Word2Vec.load('nietzsche_all_W2V')"
   ]
  },
  {
   "cell_type": "code",
   "execution_count": 44,
   "metadata": {},
   "outputs": [],
   "source": [
    "# nietzscheW2V.save('nietzsche_all_W2V')"
   ]
  },
  {
   "cell_type": "code",
   "execution_count": 9,
   "metadata": {},
   "outputs": [
    {
     "data": {
      "text/plain": [
       "[('instinct', 0.9566537141799927),\n",
       " ('individual', 0.9420974254608154),\n",
       " ('strong', 0.9364473819732666),\n",
       " ('feel', 0.9306458830833435),\n",
       " ('mean', 0.917420506477356),\n",
       " ('preservation', 0.9162799119949341),\n",
       " ('degree', 0.9162737131118774),\n",
       " ('knowledge', 0.915080726146698),\n",
       " ('increase', 0.9114302396774292),\n",
       " ('kind', 0.9105126261711121)]"
      ]
     },
     "execution_count": 9,
     "metadata": {},
     "output_type": "execute_result"
    }
   ],
   "source": [
    "# Word Associations\n",
    "nietzscheW2V.most_similar('power')"
   ]
  },
  {
   "cell_type": "code",
   "execution_count": 16,
   "metadata": {},
   "outputs": [
    {
     "data": {
      "text/plain": [
       "[('existence', 0.9427402019500732),\n",
       " ('condition', 0.9388576745986938),\n",
       " ('possible', 0.9372498393058777),\n",
       " ('knowledge', 0.9364805221557617),\n",
       " ('mankind', 0.9335625171661377),\n",
       " ('human', 0.9285537004470825),\n",
       " ('attain', 0.9279490113258362),\n",
       " ('individual', 0.9258949756622314),\n",
       " ('aim', 0.9246214628219604),\n",
       " ('mean', 0.9241080284118652)]"
      ]
     },
     "execution_count": 16,
     "metadata": {},
     "output_type": "execute_result"
    }
   ],
   "source": [
    "nietzscheW2V.most_similar('life')"
   ]
  },
  {
   "cell_type": "code",
   "execution_count": 10,
   "metadata": {},
   "outputs": [
    {
     "data": {
      "text/plain": [
       "[('child', 0.9584816098213196),\n",
       " ('want', 0.9522285461425781),\n",
       " ('one', 0.9496911764144897),\n",
       " ('hate', 0.9452183246612549),\n",
       " ('young', 0.9425678849220276),\n",
       " ('enemy', 0.9409613013267517),\n",
       " ('neighbour', 0.9399543404579163),\n",
       " ('wish', 0.9385924935340881),\n",
       " ('know', 0.9348160028457642),\n",
       " ('felicity', 0.9323712587356567)]"
      ]
     },
     "execution_count": 10,
     "metadata": {},
     "output_type": "execute_result"
    }
   ],
   "source": [
    "nietzscheW2V.most_similar('woman')"
   ]
  },
  {
   "cell_type": "code",
   "execution_count": 11,
   "metadata": {},
   "outputs": [
    {
     "data": {
      "text/plain": [
       "[('strong', 0.8945948481559753),\n",
       " ('animal', 0.8940303325653076),\n",
       " ('believe', 0.891674280166626),\n",
       " ('suffer', 0.889530599117279),\n",
       " ('able', 0.8879750967025757),\n",
       " ('low', 0.884484052658081),\n",
       " ('possess', 0.8840685486793518),\n",
       " ('create', 0.8814001679420471),\n",
       " ('reason', 0.8801310658454895),\n",
       " ('precisely', 0.8798470497131348)]"
      ]
     },
     "execution_count": 11,
     "metadata": {},
     "output_type": "execute_result"
    }
   ],
   "source": [
    "nietzscheW2V.most_similar('man')"
   ]
  },
  {
   "cell_type": "code",
   "execution_count": 17,
   "metadata": {},
   "outputs": [
    {
     "data": {
      "text/plain": [
       "[('crowd', 0.9996416568756104),\n",
       " ('preacher', 0.9996140003204346),\n",
       " ('fond', 0.9996072053909302),\n",
       " ('gentleman', 0.9995946288108826),\n",
       " ('wood', 0.9995886087417603),\n",
       " ('bitterness', 0.9995601177215576),\n",
       " ('prophet', 0.9995403289794922),\n",
       " ('fold', 0.9995242953300476),\n",
       " ('crawl', 0.9995192289352417),\n",
       " ('recollection', 0.9995149374008179)]"
      ]
     },
     "execution_count": 17,
     "metadata": {},
     "output_type": "execute_result"
    }
   ],
   "source": [
    "nietzscheW2V.most_similar('female')"
   ]
  },
  {
   "cell_type": "code",
   "execution_count": 18,
   "metadata": {},
   "outputs": [
    {
     "data": {
      "text/plain": [
       "[('mistrust', 0.9993787407875061),\n",
       " ('enter', 0.9993674755096436),\n",
       " ('assure', 0.999331533908844),\n",
       " ('clumsy', 0.9993143677711487),\n",
       " ('enlightenment', 0.9993126392364502),\n",
       " ('simplicity', 0.9992983341217041),\n",
       " ('monstrous', 0.9992792010307312),\n",
       " ('seriousness', 0.9992613792419434),\n",
       " ('technical', 0.9992578029632568),\n",
       " ('emotional', 0.9992561340332031)]"
      ]
     },
     "execution_count": 18,
     "metadata": {},
     "output_type": "execute_result"
    }
   ],
   "source": [
    "nietzscheW2V.most_similar('male')"
   ]
  },
  {
   "cell_type": "code",
   "execution_count": 15,
   "metadata": {},
   "outputs": [
    {
     "data": {
      "image/png": "[encoded data removed]",
      "text/plain": [
       "<Figure size 1152x864 with 1 Axes>"
      ]
     },
     "metadata": {},
     "output_type": "display_data"
    }
   ],
   "source": [
    "# Constructing t-SNE graphs of top words\n",
    "numWords = 50\n",
    "ntcTargetWords = nietzscheW2V.wv.index2word[:numWords]\n",
    "\n",
    "ntcWordsSubMatrix = []\n",
    "for word in ntcTargetWords:\n",
    "    ntcWordsSubMatrix.append(nietzscheW2V[word])\n",
    "ntcWordsSubMatrix = np.array(ntcWordsSubMatrix)\n",
    "\n",
    "ntcPcaWords = sklearn.decomposition.PCA(n_components = 50).fit(ntcWordsSubMatrix)\n",
    "ntc_reducedPCA_data = ntcPcaWords.transform(ntcWordsSubMatrix)\n",
    "ntcTsneWords = sklearn.manifold.TSNE(n_components = 2).fit_transform(ntc_reducedPCA_data)\n",
    "\n",
    "# drawing the graph\n",
    "fig = plt.figure(figsize = (16,12))\n",
    "ax = fig.add_subplot(111)\n",
    "ax.set_frame_on(False)\n",
    "plt.scatter(ntcTsneWords[:, 0], ntcTsneWords[:, 1], alpha = 0)\n",
    "for i, word in enumerate(ntcTargetWords):\n",
    "    ax.annotate(word, (ntcTsneWords[:, 0][i],ntcTsneWords[:, 1][i]), size =  30 * (numWords - i) / numWords)\n",
    "plt.xticks(())\n",
    "plt.yticks(())\n",
    "plt.show()"
   ]
  },
  {
   "cell_type": "markdown",
   "metadata": {},
   "source": [
    "# Experimenting with time-series data"
   ]
  },
  {
   "cell_type": "code",
   "execution_count": 53,
   "metadata": {},
   "outputs": [],
   "source": [
    "# borrowing code from week 7 homework\n",
    "import copy\n",
    "\n",
    "def calc_syn0norm(model):\n",
    "    \"\"\"since syn0norm is now depricated\"\"\"\n",
    "    return (model.wv.syn0 / np.sqrt((model.wv.syn0 ** 2).sum(-1))[..., np.newaxis]).astype(np.float32)\n",
    "\n",
    "def smart_procrustes_align_gensim(base_embed, other_embed, words=None):\n",
    "    \"\"\"Procrustes align two gensim word2vec models (to allow for comparison between same word across models).\n",
    "    Code ported from HistWords <https://github.com/williamleif/histwords> by William Hamilton <wleif@stanford.edu>.\n",
    "    (With help from William. Thank you!)\n",
    "    First, intersect the vocabularies (see `intersection_align_gensim` documentation).\n",
    "    Then do the alignment on the other_embed model.\n",
    "    Replace the other_embed model's syn0 and syn0norm numpy matrices with the aligned version.\n",
    "    Return other_embed.\n",
    "    If `words` is set, intersect the two models' vocabulary with the vocabulary in words (see `intersection_align_gensim` documentation).\n",
    "    \"\"\"\n",
    "    base_embed = copy.copy(base_embed)\n",
    "    other_embed = copy.copy(other_embed)\n",
    "    # make sure vocabulary and indices are aligned\n",
    "    in_base_embed, in_other_embed = intersection_align_gensim(base_embed, other_embed, words=words)\n",
    "\n",
    "    # get the embedding matrices\n",
    "    base_vecs = calc_syn0norm(in_base_embed)\n",
    "    other_vecs = calc_syn0norm(in_other_embed)\n",
    "\n",
    "    # just a matrix dot product with numpy\n",
    "    m = other_vecs.T.dot(base_vecs) \n",
    "    # SVD method from numpy\n",
    "    u, _, v = np.linalg.svd(m)\n",
    "    # another matrix operation\n",
    "    ortho = u.dot(v) \n",
    "    # Replace original array with modified one\n",
    "    # i.e. multiplying the embedding matrix (syn0norm)by \"ortho\"\n",
    "    other_embed.wv.syn0norm = other_embed.wv.syn0 = (calc_syn0norm(other_embed)).dot(ortho)\n",
    "    return other_embed\n",
    "    \n",
    "def intersection_align_gensim(m1,m2, words=None):\n",
    "    \"\"\"\n",
    "    Intersect two gensim word2vec models, m1 and m2.\n",
    "    Only the shared vocabulary between them is kept.\n",
    "    If 'words' is set (as list or set), then the vocabulary is intersected with this list as well.\n",
    "    Indices are re-organized from 0..N in order of descending frequency (=sum of counts from both m1 and m2).\n",
    "    These indices correspond to the new syn0 and syn0norm objects in both gensim models:\n",
    "        -- so that Row 0 of m1.syn0 will be for the same word as Row 0 of m2.syn0\n",
    "        -- you can find the index of any word on the .index2word list: model.index2word.index(word) => 2\n",
    "    The .vocab dictionary is also updated for each model, preserving the count but updating the index.\n",
    "    \"\"\"\n",
    "\n",
    "    # Get the vocab for each model\n",
    "    vocab_m1 = set(m1.wv.vocab.keys())\n",
    "    vocab_m2 = set(m2.wv.vocab.keys())\n",
    "\n",
    "    # Find the common vocabulary\n",
    "    common_vocab = vocab_m1&vocab_m2\n",
    "    if words: common_vocab&=set(words)\n",
    "\n",
    "    # If no alignment necessary because vocab is identical...\n",
    "    if not vocab_m1-common_vocab and not vocab_m2-common_vocab:\n",
    "        return (m1,m2)\n",
    "\n",
    "    # Otherwise sort by frequency (summed for both)\n",
    "    common_vocab = list(common_vocab)\n",
    "    common_vocab.sort(key=lambda w: m1.wv.vocab[w].count + m2.wv.vocab[w].count,reverse=True)\n",
    "\n",
    "    # Then for each model...\n",
    "    for m in [m1,m2]:\n",
    "        # Replace old syn0norm array with new one (with common vocab)\n",
    "        indices = [m.wv.vocab[w].index for w in common_vocab]\n",
    "        old_arr = calc_syn0norm(m)\n",
    "        new_arr = np.array([old_arr[index] for index in indices])\n",
    "        m.wv.syn0norm = m.wv.syn0 = new_arr\n",
    "\n",
    "        # Replace old vocab dictionary with new one (with common vocab)\n",
    "        # and old index2word with new one\n",
    "        m.index2word = common_vocab\n",
    "        old_vocab = m.wv.vocab\n",
    "        new_vocab = {}\n",
    "        for new_index,word in enumerate(common_vocab):\n",
    "            old_vocab_obj=old_vocab[word]\n",
    "            new_vocab[word] = gensim.models.word2vec.Vocab(index=new_index, count=old_vocab_obj.count)\n",
    "        m.wv.vocab = new_vocab\n",
    "\n",
    "    return (m1,m2)\n",
    "\n",
    "def compareModels(df, category, text_column_name='normalized_sents', sort = True, embeddings_raw={}):\n",
    "    if len(embeddings_raw) == 0:\n",
    "        embeddings_raw = rawModels(df, category, text_column_name, sort)\n",
    "    cats = sorted(set(df[category]))\n",
    "    embeddings_aligned = {}\n",
    "    for catOuter in cats:\n",
    "        embeddings_aligned[catOuter] = [embeddings_raw[catOuter]]\n",
    "        for catInner in cats:\n",
    "            embeddings_aligned[catOuter].append(smart_procrustes_align_gensim(embeddings_aligned[catOuter][-1], embeddings_raw[catInner]))\n",
    "    return embeddings_raw, embeddings_aligned\n",
    "\n",
    "def rawModels(df, category, text_column_name='normalized_sents', sort = True):\n",
    "    embeddings_raw = {}\n",
    "    cats = sorted(set(df[category]))\n",
    "    for cat in cats:\n",
    "        print(\"Embedding {}\".format(cat), end = '\\r')\n",
    "        subsetDF = df[df[category] == cat]\n",
    "        #You might want to change the W2V parameters\n",
    "        embeddings_raw[cat] = gensim.models.word2vec.Word2Vec(subsetDF[text_column_name].sum())\n",
    "    return embeddings_raw\n",
    "\n",
    "def getDivergenceDF(word, embeddingsDict):\n",
    "    dists = []\n",
    "    cats = sorted(set(embeddingsDict.keys()))\n",
    "    dists = {}\n",
    "    print(word)\n",
    "    for cat in cats:\n",
    "        dists[cat] = []\n",
    "        for embed in embeddingsDict[cat][1:]:\n",
    "            dists[cat].append(np.abs(1 - sklearn.metrics.pairwise.cosine_similarity(np.expand_dims(embeddingsDict[cat][0][word], axis = 0),\n",
    "                                                                             np.expand_dims(embed[word], axis = 0))[0,0]))\n",
    "    return pd.DataFrame(dists, index = cats)"
   ]
  },
  {
   "cell_type": "code",
   "execution_count": 51,
   "metadata": {},
   "outputs": [
    {
     "name": "stdout",
     "output_type": "stream",
     "text": [
      "Embedding 1901\r"
     ]
    }
   ],
   "source": [
    "rawEmbeddings, comparedEmbeddings = compareModels(nietzsche_df, 'year', text_column_name='normalized_tokens')"
   ]
  },
  {
   "cell_type": "code",
   "execution_count": 57,
   "metadata": {},
   "outputs": [
    {
     "name": "stdout",
     "output_type": "stream",
     "text": [
      "man\n"
     ]
    },
    {
     "data": {
      "image/png": "[encoded data removed]",
      "text/plain": [
       "<Figure size 720x504 with 2 Axes>"
      ]
     },
     "metadata": {
      "needs_background": "light"
     },
     "output_type": "display_data"
    }
   ],
   "source": [
    "targetWord = 'man'\n",
    "\n",
    "pltDF = getDivergenceDF(targetWord, comparedEmbeddings)\n",
    "fig, ax = plt.subplots(figsize = (10, 7))\n",
    "seaborn.heatmap(pltDF, ax = ax, annot = False) #set annot True for a lot more information\n",
    "ax.set_xlabel(\"Starting year\")\n",
    "ax.set_ylabel(\"Final year\")\n",
    "ax.set_ylabel(\"Final year\")\n",
    "ax.set_title(\"Yearly linguistic change for: '{}'\".format(targetWord))\n",
    "plt.show() # No significant interpretable results"
   ]
  },
  {
   "cell_type": "code",
   "execution_count": 58,
   "metadata": {},
   "outputs": [],
   "source": [
    "def findDiverence(word, embeddingsDict):\n",
    "    cats = sorted(set(embeddingsDict.keys()))\n",
    "    \n",
    "    dists = []\n",
    "    for embed in embeddingsDict[cats[0]][1:]:\n",
    "        dists.append(1 - sklearn.metrics.pairwise.cosine_similarity(np.expand_dims(embeddingsDict[cats[0]][0][word], axis = 0), np.expand_dims(embed[word], axis = 0))[0,0])\n",
    "    return sum(dists)\n",
    "\n",
    "def findMostDivergent(embeddingsDict):\n",
    "    words = []\n",
    "    for embeds in embeddingsDict.values():\n",
    "        for embed in embeds:\n",
    "            words += list(embed.wv.vocab.keys())\n",
    "    words = set(words)\n",
    "    print(\"Found {} words to compare\".format(len(words)))\n",
    "    return sorted([(w, findDiverence(w, embeddingsDict)) for w in words], key = lambda x: x[1], reverse=True)\n",
    "    "
   ]
  },
  {
   "cell_type": "code",
   "execution_count": 59,
   "metadata": {},
   "outputs": [
    {
     "name": "stdout",
     "output_type": "stream",
     "text": [
      "Found 47 words to compare\n"
     ]
    }
   ],
   "source": [
    "wordDivergences = findMostDivergent(comparedEmbeddings)"
   ]
  },
  {
   "cell_type": "code",
   "execution_count": 63,
   "metadata": {},
   "outputs": [
    {
     "data": {
      "text/plain": [
       "[('power', 14.11733284033835),\n",
       " ('cause', 14.00076114013791),\n",
       " ('new', 13.914798460900784),\n",
       " ('soul', 13.583424961194396),\n",
       " ('end', 13.457087557762861),\n",
       " ('eye', 12.942999560385942),\n",
       " ('good', 12.935695722699165),\n",
       " ('late', 12.805788420140743),\n",
       " ('place', 12.803910836577415),\n",
       " ('follow', 12.69264629483223)]"
      ]
     },
     "execution_count": 63,
     "metadata": {},
     "output_type": "execute_result"
    }
   ],
   "source": [
    "wordDivergences[:10] # Some interesting changes in Nietzsche's word usage"
   ]
  },
  {
   "cell_type": "code",
   "execution_count": 64,
   "metadata": {},
   "outputs": [
    {
     "data": {
      "text/plain": [
       "[('time', 10.468870773911476),\n",
       " ('different', 10.466917097568512),\n",
       " ('remain', 10.24921427667141),\n",
       " ('world', 10.216491967439651),\n",
       " ('think', 10.202924281358719),\n",
       " ('question', 9.718299329280853),\n",
       " ('deep', 9.579409085214138),\n",
       " ('lie', 9.377873793244362),\n",
       " ('work', 9.306382209062576),\n",
       " ('age', 8.620297729969025)]"
      ]
     },
     "execution_count": 64,
     "metadata": {},
     "output_type": "execute_result"
    }
   ],
   "source": [
    "wordDivergences[-10:]"
   ]
  },
  {
   "cell_type": "markdown",
   "metadata": {},
   "source": [
    "# Studying Nietzsche in the context of modern philosophers"
   ]
  },
  {
   "cell_type": "code",
   "execution_count": 4,
   "metadata": {},
   "outputs": [
    {
     "data": {
      "text/html": [
       "<div>\n",
       "<style scoped>\n",
       "    .dataframe tbody tr th:only-of-type {\n",
       "        vertical-align: middle;\n",
       "    }\n",
       "\n",
       "    .dataframe tbody tr th {\n",
       "        vertical-align: top;\n",
       "    }\n",
       "\n",
       "    .dataframe thead th {\n",
       "        text-align: right;\n",
       "    }\n",
       "</style>\n",
       "<table border=\"1\" class=\"dataframe\">\n",
       "  <thead>\n",
       "    <tr style=\"text-align: right;\">\n",
       "      <th></th>\n",
       "      <th>Unnamed: 0</th>\n",
       "      <th>title</th>\n",
       "      <th>author</th>\n",
       "      <th>school</th>\n",
       "      <th>sentence_str</th>\n",
       "      <th>sentence_length</th>\n",
       "      <th>sentence_lowered</th>\n",
       "      <th>tokenized_txt</th>\n",
       "      <th>lemmatized_str</th>\n",
       "      <th>normalized_tokens</th>\n",
       "    </tr>\n",
       "  </thead>\n",
       "  <tbody>\n",
       "    <tr>\n",
       "      <th>0</th>\n",
       "      <td>0</td>\n",
       "      <td>Second Treatise On Government</td>\n",
       "      <td>Locke</td>\n",
       "      <td>empiricism</td>\n",
       "      <td>Reader, thou hast here the beginning and end o...</td>\n",
       "      <td>237</td>\n",
       "      <td>reader, thou hast here the beginning and end o...</td>\n",
       "      <td>['reader', 'thou', 'hast', 'here', 'the', 'beg...</td>\n",
       "      <td>reader , thou hast here the beginning and end...</td>\n",
       "      <td>[[reader, thou, hast, begin, end, discourse, c...</td>\n",
       "    </tr>\n",
       "    <tr>\n",
       "      <th>1</th>\n",
       "      <td>1</td>\n",
       "      <td>Second Treatise On Government</td>\n",
       "      <td>Locke</td>\n",
       "      <td>empiricism</td>\n",
       "      <td>These, which remain, I hope are sufficient to ...</td>\n",
       "      <td>488</td>\n",
       "      <td>these, which remain, i hope are sufficient to ...</td>\n",
       "      <td>['these', 'which', 'remain', 'hope', 'are', 's...</td>\n",
       "      <td>these , which remain , -PRON- hope be suffici...</td>\n",
       "      <td>[[remain, hope, sufficient, establish, throne,...</td>\n",
       "    </tr>\n",
       "    <tr>\n",
       "      <th>2</th>\n",
       "      <td>2</td>\n",
       "      <td>Second Treatise On Government</td>\n",
       "      <td>Locke</td>\n",
       "      <td>empiricism</td>\n",
       "      <td>If these papers have that evidence, I flatter ...</td>\n",
       "      <td>444</td>\n",
       "      <td>if these papers have that evidence, i flatter ...</td>\n",
       "      <td>['if', 'these', 'papers', 'have', 'that', 'evi...</td>\n",
       "      <td>if these paper have that evidence , -PRON- fl...</td>\n",
       "      <td>[[paper, evidence, flat, find, great, miss, lo...</td>\n",
       "    </tr>\n",
       "    <tr>\n",
       "      <th>3</th>\n",
       "      <td>3</td>\n",
       "      <td>Second Treatise On Government</td>\n",
       "      <td>Locke</td>\n",
       "      <td>empiricism</td>\n",
       "      <td>The king, and body of the nation, have since s...</td>\n",
       "      <td>721</td>\n",
       "      <td>the king, and body of the nation, have since s...</td>\n",
       "      <td>['the', 'king', 'and', 'body', 'of', 'the', 'n...</td>\n",
       "      <td>the king , and body of the nation , have sinc...</td>\n",
       "      <td>[[king, body, nation, thoroughly, confute, hyp...</td>\n",
       "    </tr>\n",
       "    <tr>\n",
       "      <th>4</th>\n",
       "      <td>4</td>\n",
       "      <td>Second Treatise On Government</td>\n",
       "      <td>Locke</td>\n",
       "      <td>empiricism</td>\n",
       "      <td>If he think it not worth while to examine his ...</td>\n",
       "      <td>263</td>\n",
       "      <td>if he think it not worth while to examine his ...</td>\n",
       "      <td>['if', 'he', 'think', 'it', 'not', 'worth', 'w...</td>\n",
       "      <td>if -PRON- think -PRON- not worth while to exa...</td>\n",
       "      <td>[[think, worth, examine, work, thro, let, expe...</td>\n",
       "    </tr>\n",
       "  </tbody>\n",
       "</table>\n",
       "</div>"
      ],
      "text/plain": [
       "   Unnamed: 0                          title author      school  \\\n",
       "0           0  Second Treatise On Government  Locke  empiricism   \n",
       "1           1  Second Treatise On Government  Locke  empiricism   \n",
       "2           2  Second Treatise On Government  Locke  empiricism   \n",
       "3           3  Second Treatise On Government  Locke  empiricism   \n",
       "4           4  Second Treatise On Government  Locke  empiricism   \n",
       "\n",
       "                                        sentence_str  sentence_length  \\\n",
       "0  Reader, thou hast here the beginning and end o...              237   \n",
       "1  These, which remain, I hope are sufficient to ...              488   \n",
       "2  If these papers have that evidence, I flatter ...              444   \n",
       "3  The king, and body of the nation, have since s...              721   \n",
       "4  If he think it not worth while to examine his ...              263   \n",
       "\n",
       "                                    sentence_lowered  \\\n",
       "0  reader, thou hast here the beginning and end o...   \n",
       "1  these, which remain, i hope are sufficient to ...   \n",
       "2  if these papers have that evidence, i flatter ...   \n",
       "3  the king, and body of the nation, have since s...   \n",
       "4  if he think it not worth while to examine his ...   \n",
       "\n",
       "                                       tokenized_txt  \\\n",
       "0  ['reader', 'thou', 'hast', 'here', 'the', 'beg...   \n",
       "1  ['these', 'which', 'remain', 'hope', 'are', 's...   \n",
       "2  ['if', 'these', 'papers', 'have', 'that', 'evi...   \n",
       "3  ['the', 'king', 'and', 'body', 'of', 'the', 'n...   \n",
       "4  ['if', 'he', 'think', 'it', 'not', 'worth', 'w...   \n",
       "\n",
       "                                      lemmatized_str  \\\n",
       "0   reader , thou hast here the beginning and end...   \n",
       "1   these , which remain , -PRON- hope be suffici...   \n",
       "2   if these paper have that evidence , -PRON- fl...   \n",
       "3   the king , and body of the nation , have sinc...   \n",
       "4   if -PRON- think -PRON- not worth while to exa...   \n",
       "\n",
       "                                   normalized_tokens  \n",
       "0  [[reader, thou, hast, begin, end, discourse, c...  \n",
       "1  [[remain, hope, sufficient, establish, throne,...  \n",
       "2  [[paper, evidence, flat, find, great, miss, lo...  \n",
       "3  [[king, body, nation, thoroughly, confute, hyp...  \n",
       "4  [[think, worth, examine, work, thro, let, expe...  "
      ]
     },
     "execution_count": 4,
     "metadata": {},
     "output_type": "execute_result"
    }
   ],
   "source": [
    "# Importing the dataset https://www.kaggle.com/kouroshalizadeh/history-of-philosophy\n",
    "\n",
    "#modern_df = pd.read_csv('data/modern_phil.csv')\n",
    "modern_df = pd.read_csv('data/modern_phil_tokenized.csv')\n",
    "#modern_df['normalized_tokens'] = modern_df.tokenized_txt.apply(lambda x: [lucem_illud.normalizeTokens(x)])\n",
    "#modern_df.to_csv('data/modern_phil_tokenized.csv')\n",
    "modern_df['normalized_tokens'] = modern_df.normalized_tokens.apply(lambda x: [[w.strip(\"'\") for w in x.strip('][').split(', ')]])\n",
    "modern_df.head()"
   ]
  },
  {
   "cell_type": "code",
   "execution_count": 47,
   "metadata": {},
   "outputs": [
    {
     "data": {
      "text/plain": [
       "(47,)"
      ]
     },
     "execution_count": 47,
     "metadata": {},
     "output_type": "execute_result"
    }
   ],
   "source": [
    "modern_df.title.unique().shape"
   ]
  },
  {
   "cell_type": "code",
   "execution_count": 5,
   "metadata": {},
   "outputs": [],
   "source": [
    "phil_normalized_tokens = pd.concat([nietzsche_df.normalized_tokens, modern_df.normalized_tokens])"
   ]
  },
  {
   "cell_type": "code",
   "execution_count": 24,
   "metadata": {},
   "outputs": [],
   "source": [
    "# Constructing W2V for modern philosophers\n",
    "#modernW2V = gensim.models.word2vec.Word2Vec(phil_normalized_tokens.sum())\n",
    "modernW2V = gensim.models.Word2Vec.load('modernW2V')"
   ]
  },
  {
   "cell_type": "code",
   "execution_count": 76,
   "metadata": {},
   "outputs": [],
   "source": [
    "#modernW2V.save('modernW2V')"
   ]
  },
  {
   "cell_type": "code",
   "execution_count": 51,
   "metadata": {},
   "outputs": [
    {
     "data": {
      "text/plain": [
       "[('capacity', 0.6554887890815735),\n",
       " ('force', 0.6487203240394592),\n",
       " ('productive', 0.643592119216919),\n",
       " ('sovereign', 0.6271889805793762),\n",
       " ('capability', 0.6220934987068176),\n",
       " ('legislative', 0.607519268989563),\n",
       " ('executive', 0.5992879271507263),\n",
       " ('strength', 0.5977166891098022),\n",
       " ('efficacy', 0.5932028889656067),\n",
       " ('freedom', 0.586942732334137)]"
      ]
     },
     "execution_count": 51,
     "metadata": {},
     "output_type": "execute_result"
    }
   ],
   "source": [
    "# Word associations\n",
    "modernW2V.most_similar('power')"
   ]
  },
  {
   "cell_type": "code",
   "execution_count": 26,
   "metadata": {},
   "outputs": [
    {
     "data": {
      "text/plain": [
       "[('parent', 0.821353554725647),\n",
       " ('husband', 0.8081409931182861),\n",
       " ('young', 0.8055095672607422),\n",
       " ('female', 0.7957718968391418),\n",
       " ('wife', 0.7930506467819214),\n",
       " ('marry', 0.7833409309387207),\n",
       " ('mother', 0.7818793654441833),\n",
       " ('child', 0.7660934925079346),\n",
       " ('male', 0.7529222965240479),\n",
       " ('girl', 0.7487002611160278)]"
      ]
     },
     "execution_count": 26,
     "metadata": {},
     "output_type": "execute_result"
    }
   ],
   "source": [
    "modernW2V.most_similar('woman')"
   ]
  },
  {
   "cell_type": "code",
   "execution_count": 27,
   "metadata": {},
   "outputs": [
    {
     "data": {
      "text/plain": [
       "[('creature', 0.6477414965629578),\n",
       " ('people', 0.5860347151756287),\n",
       " ('gift', 0.5673900246620178),\n",
       " ('fellow', 0.5640344023704529),\n",
       " ('woman', 0.5529381036758423),\n",
       " ('herd', 0.5524684190750122),\n",
       " ('mankind', 0.5333319902420044),\n",
       " ('mediocre', 0.5324283242225647),\n",
       " ('wise', 0.52173912525177),\n",
       " ('rarely', 0.5183969736099243)]"
      ]
     },
     "execution_count": 27,
     "metadata": {},
     "output_type": "execute_result"
    }
   ],
   "source": [
    "modernW2V.most_similar('man')"
   ]
  },
  {
   "cell_type": "code",
   "execution_count": 187,
   "metadata": {},
   "outputs": [
    {
     "data": {
      "text/plain": [
       "[('live', 0.6120035648345947),\n",
       " ('instinct', 0.6027302742004395),\n",
       " ('everyday', 0.5952799320220947),\n",
       " ('death', 0.5922095775604248),\n",
       " ('conveniencies', 0.5883718729019165),\n",
       " ('birth', 0.571550190448761),\n",
       " ('accomplishment', 0.5449061393737793),\n",
       " ('preservation', 0.5376116037368774),\n",
       " ('humanity', 0.5261181592941284),\n",
       " ('mankind', 0.5256490707397461)]"
      ]
     },
     "execution_count": 187,
     "metadata": {},
     "output_type": "execute_result"
    }
   ],
   "source": [
    "modernW2V.most_similar('life')"
   ]
  },
  {
   "cell_type": "markdown",
   "metadata": {},
   "source": [
    "## Representing philosophers in 2D space"
   ]
  },
  {
   "cell_type": "code",
   "execution_count": 14,
   "metadata": {},
   "outputs": [],
   "source": [
    "# Functions for centroid computation\n",
    "def sentence_centroid(tokens, model):\n",
    "    vocab = model.wv.vocab\n",
    "    collec = np.array([model.wv[word] for word in tokens if word in vocab])\n",
    "    if len(collec) < 1:\n",
    "        return np.array([])\n",
    "    else:\n",
    "        return collec.mean(axis=0)\n",
    "\n",
    "def author_centroid(token_list, model):\n",
    "    collect = []\n",
    "    for p in token_list:\n",
    "        for s in p:\n",
    "            sctr = sentence_centroid(s, model)\n",
    "            if len(sctr) > 0:\n",
    "                collect.append(sctr)\n",
    "            \n",
    "    return np.array(collect).mean(axis=0)"
   ]
  },
  {
   "cell_type": "code",
   "execution_count": 54,
   "metadata": {},
   "outputs": [],
   "source": [
    "# Computing centroids\n",
    "nietzsche_centroid = author_centroid(nietzsche_df.normalized_tokens, modernW2V)\n",
    "authors = {'Nietzsche': nietzsche_centroid}\n",
    "\n",
    "for author in modern_df.author.unique():\n",
    "    ctr = author_centroid(modern_df[modern_df.author == author]['normalized_tokens'], modernW2V)\n",
    "    authors[author] = ctr"
   ]
  },
  {
   "cell_type": "code",
   "execution_count": 145,
   "metadata": {},
   "outputs": [],
   "source": [
    "#centroids_df = pd.DataFrame.from_dict(authors)\n",
    "#centroids_df.to_csv('modern_phil_centroids.csv', index=False)\n",
    "centroids_df = pd.read_csv('modern_phil_centroids.csv')"
   ]
  },
  {
   "cell_type": "code",
   "execution_count": 146,
   "metadata": {},
   "outputs": [
    {
     "data": {
      "text/html": [
       "<div>\n",
       "<style scoped>\n",
       "    .dataframe tbody tr th:only-of-type {\n",
       "        vertical-align: middle;\n",
       "    }\n",
       "\n",
       "    .dataframe tbody tr th {\n",
       "        vertical-align: top;\n",
       "    }\n",
       "\n",
       "    .dataframe thead th {\n",
       "        text-align: right;\n",
       "    }\n",
       "</style>\n",
       "<table border=\"1\" class=\"dataframe\">\n",
       "  <thead>\n",
       "    <tr style=\"text-align: right;\">\n",
       "      <th></th>\n",
       "      <th>Nietzsche</th>\n",
       "      <th>Locke</th>\n",
       "      <th>Hume</th>\n",
       "      <th>Berkeley</th>\n",
       "      <th>Spinoza</th>\n",
       "      <th>Leibniz</th>\n",
       "      <th>Descartes</th>\n",
       "      <th>Malebranche</th>\n",
       "      <th>Russell</th>\n",
       "      <th>Moore</th>\n",
       "      <th>...</th>\n",
       "      <th>Husserl</th>\n",
       "      <th>Heidegger</th>\n",
       "      <th>Kant</th>\n",
       "      <th>Fichte</th>\n",
       "      <th>Hegel</th>\n",
       "      <th>Marx</th>\n",
       "      <th>Lenin</th>\n",
       "      <th>Smith</th>\n",
       "      <th>Ricardo</th>\n",
       "      <th>Keynes</th>\n",
       "    </tr>\n",
       "  </thead>\n",
       "  <tbody>\n",
       "    <tr>\n",
       "      <th>0</th>\n",
       "      <td>-0.057233</td>\n",
       "      <td>-0.035856</td>\n",
       "      <td>0.135278</td>\n",
       "      <td>0.002477</td>\n",
       "      <td>0.146141</td>\n",
       "      <td>0.178695</td>\n",
       "      <td>0.084429</td>\n",
       "      <td>0.048213</td>\n",
       "      <td>0.034171</td>\n",
       "      <td>0.085857</td>\n",
       "      <td>...</td>\n",
       "      <td>0.053067</td>\n",
       "      <td>-0.073974</td>\n",
       "      <td>0.131873</td>\n",
       "      <td>0.141297</td>\n",
       "      <td>0.039115</td>\n",
       "      <td>-0.107477</td>\n",
       "      <td>-0.052790</td>\n",
       "      <td>-0.018223</td>\n",
       "      <td>0.050650</td>\n",
       "      <td>0.154693</td>\n",
       "    </tr>\n",
       "    <tr>\n",
       "      <th>1</th>\n",
       "      <td>0.001976</td>\n",
       "      <td>0.238134</td>\n",
       "      <td>0.339350</td>\n",
       "      <td>0.286618</td>\n",
       "      <td>0.275007</td>\n",
       "      <td>0.245157</td>\n",
       "      <td>0.239952</td>\n",
       "      <td>0.205914</td>\n",
       "      <td>0.308522</td>\n",
       "      <td>0.452471</td>\n",
       "      <td>...</td>\n",
       "      <td>0.259487</td>\n",
       "      <td>0.177385</td>\n",
       "      <td>0.422005</td>\n",
       "      <td>0.357628</td>\n",
       "      <td>0.329084</td>\n",
       "      <td>-0.084561</td>\n",
       "      <td>0.159553</td>\n",
       "      <td>0.013023</td>\n",
       "      <td>0.045171</td>\n",
       "      <td>0.243154</td>\n",
       "    </tr>\n",
       "    <tr>\n",
       "      <th>2</th>\n",
       "      <td>-0.081024</td>\n",
       "      <td>0.116116</td>\n",
       "      <td>0.107546</td>\n",
       "      <td>0.170245</td>\n",
       "      <td>0.102492</td>\n",
       "      <td>-0.020788</td>\n",
       "      <td>0.096279</td>\n",
       "      <td>0.094581</td>\n",
       "      <td>-0.000540</td>\n",
       "      <td>-0.022048</td>\n",
       "      <td>...</td>\n",
       "      <td>-0.162725</td>\n",
       "      <td>-0.208678</td>\n",
       "      <td>0.000986</td>\n",
       "      <td>0.047838</td>\n",
       "      <td>-0.002985</td>\n",
       "      <td>0.155051</td>\n",
       "      <td>-0.009865</td>\n",
       "      <td>0.141184</td>\n",
       "      <td>0.157342</td>\n",
       "      <td>-0.034063</td>\n",
       "    </tr>\n",
       "    <tr>\n",
       "      <th>3</th>\n",
       "      <td>0.045985</td>\n",
       "      <td>0.261031</td>\n",
       "      <td>0.329102</td>\n",
       "      <td>0.199880</td>\n",
       "      <td>0.302768</td>\n",
       "      <td>0.097077</td>\n",
       "      <td>0.181323</td>\n",
       "      <td>0.182669</td>\n",
       "      <td>0.267450</td>\n",
       "      <td>0.316969</td>\n",
       "      <td>...</td>\n",
       "      <td>0.218256</td>\n",
       "      <td>0.159276</td>\n",
       "      <td>0.383916</td>\n",
       "      <td>0.343544</td>\n",
       "      <td>0.604888</td>\n",
       "      <td>0.332015</td>\n",
       "      <td>0.064504</td>\n",
       "      <td>0.332987</td>\n",
       "      <td>0.473129</td>\n",
       "      <td>0.238083</td>\n",
       "    </tr>\n",
       "    <tr>\n",
       "      <th>4</th>\n",
       "      <td>0.033499</td>\n",
       "      <td>-0.082246</td>\n",
       "      <td>-0.015816</td>\n",
       "      <td>-0.024990</td>\n",
       "      <td>-0.079020</td>\n",
       "      <td>-0.054308</td>\n",
       "      <td>-0.072225</td>\n",
       "      <td>-0.011775</td>\n",
       "      <td>0.041102</td>\n",
       "      <td>-0.028686</td>\n",
       "      <td>...</td>\n",
       "      <td>-0.045312</td>\n",
       "      <td>-0.049938</td>\n",
       "      <td>-0.035607</td>\n",
       "      <td>-0.024787</td>\n",
       "      <td>-0.088545</td>\n",
       "      <td>0.104897</td>\n",
       "      <td>0.102483</td>\n",
       "      <td>0.050743</td>\n",
       "      <td>0.047965</td>\n",
       "      <td>-0.022576</td>\n",
       "    </tr>\n",
       "    <tr>\n",
       "      <th>...</th>\n",
       "      <td>...</td>\n",
       "      <td>...</td>\n",
       "      <td>...</td>\n",
       "      <td>...</td>\n",
       "      <td>...</td>\n",
       "      <td>...</td>\n",
       "      <td>...</td>\n",
       "      <td>...</td>\n",
       "      <td>...</td>\n",
       "      <td>...</td>\n",
       "      <td>...</td>\n",
       "      <td>...</td>\n",
       "      <td>...</td>\n",
       "      <td>...</td>\n",
       "      <td>...</td>\n",
       "      <td>...</td>\n",
       "      <td>...</td>\n",
       "      <td>...</td>\n",
       "      <td>...</td>\n",
       "      <td>...</td>\n",
       "      <td>...</td>\n",
       "    </tr>\n",
       "    <tr>\n",
       "      <th>95</th>\n",
       "      <td>-0.242224</td>\n",
       "      <td>-0.408336</td>\n",
       "      <td>-0.286262</td>\n",
       "      <td>-0.338249</td>\n",
       "      <td>-0.300479</td>\n",
       "      <td>-0.194393</td>\n",
       "      <td>-0.308676</td>\n",
       "      <td>-0.238696</td>\n",
       "      <td>-0.309939</td>\n",
       "      <td>-0.388188</td>\n",
       "      <td>...</td>\n",
       "      <td>-0.368592</td>\n",
       "      <td>-0.351038</td>\n",
       "      <td>-0.470934</td>\n",
       "      <td>-0.419143</td>\n",
       "      <td>-0.493638</td>\n",
       "      <td>-0.612709</td>\n",
       "      <td>-0.267704</td>\n",
       "      <td>-0.599091</td>\n",
       "      <td>-1.014696</td>\n",
       "      <td>-0.660084</td>\n",
       "    </tr>\n",
       "    <tr>\n",
       "      <th>96</th>\n",
       "      <td>0.159160</td>\n",
       "      <td>0.239797</td>\n",
       "      <td>0.268892</td>\n",
       "      <td>0.260458</td>\n",
       "      <td>0.118440</td>\n",
       "      <td>0.191754</td>\n",
       "      <td>0.201568</td>\n",
       "      <td>0.269123</td>\n",
       "      <td>0.319498</td>\n",
       "      <td>0.235701</td>\n",
       "      <td>...</td>\n",
       "      <td>0.241985</td>\n",
       "      <td>0.147484</td>\n",
       "      <td>0.274022</td>\n",
       "      <td>0.245290</td>\n",
       "      <td>0.204158</td>\n",
       "      <td>0.230544</td>\n",
       "      <td>0.180670</td>\n",
       "      <td>0.277257</td>\n",
       "      <td>0.256874</td>\n",
       "      <td>0.289870</td>\n",
       "    </tr>\n",
       "    <tr>\n",
       "      <th>97</th>\n",
       "      <td>-0.706596</td>\n",
       "      <td>-0.968875</td>\n",
       "      <td>-1.034486</td>\n",
       "      <td>-1.045733</td>\n",
       "      <td>-1.152538</td>\n",
       "      <td>-0.791070</td>\n",
       "      <td>-0.967616</td>\n",
       "      <td>-0.993283</td>\n",
       "      <td>-0.947301</td>\n",
       "      <td>-0.961409</td>\n",
       "      <td>...</td>\n",
       "      <td>-0.865018</td>\n",
       "      <td>-0.773746</td>\n",
       "      <td>-1.052088</td>\n",
       "      <td>-0.960479</td>\n",
       "      <td>-0.969429</td>\n",
       "      <td>-0.721648</td>\n",
       "      <td>-0.482232</td>\n",
       "      <td>-0.853643</td>\n",
       "      <td>-0.979455</td>\n",
       "      <td>-0.728012</td>\n",
       "    </tr>\n",
       "    <tr>\n",
       "      <th>98</th>\n",
       "      <td>0.490704</td>\n",
       "      <td>0.562964</td>\n",
       "      <td>0.570567</td>\n",
       "      <td>0.642213</td>\n",
       "      <td>0.762485</td>\n",
       "      <td>0.485723</td>\n",
       "      <td>0.571312</td>\n",
       "      <td>0.615820</td>\n",
       "      <td>0.398633</td>\n",
       "      <td>0.454528</td>\n",
       "      <td>...</td>\n",
       "      <td>0.494369</td>\n",
       "      <td>0.460401</td>\n",
       "      <td>0.591039</td>\n",
       "      <td>0.525238</td>\n",
       "      <td>0.690382</td>\n",
       "      <td>0.496059</td>\n",
       "      <td>0.212081</td>\n",
       "      <td>0.562301</td>\n",
       "      <td>0.776241</td>\n",
       "      <td>0.431956</td>\n",
       "    </tr>\n",
       "    <tr>\n",
       "      <th>99</th>\n",
       "      <td>-0.256727</td>\n",
       "      <td>0.150762</td>\n",
       "      <td>0.070153</td>\n",
       "      <td>0.220974</td>\n",
       "      <td>0.190441</td>\n",
       "      <td>0.050308</td>\n",
       "      <td>0.127630</td>\n",
       "      <td>0.104206</td>\n",
       "      <td>0.151964</td>\n",
       "      <td>0.174622</td>\n",
       "      <td>...</td>\n",
       "      <td>0.255809</td>\n",
       "      <td>0.248059</td>\n",
       "      <td>0.366559</td>\n",
       "      <td>0.205113</td>\n",
       "      <td>0.431270</td>\n",
       "      <td>-0.367297</td>\n",
       "      <td>-0.081992</td>\n",
       "      <td>-0.587495</td>\n",
       "      <td>-0.696623</td>\n",
       "      <td>-0.174922</td>\n",
       "    </tr>\n",
       "  </tbody>\n",
       "</table>\n",
       "<p>100 rows × 29 columns</p>\n",
       "</div>"
      ],
      "text/plain": [
       "    Nietzsche     Locke      Hume  Berkeley   Spinoza   Leibniz  Descartes  \\\n",
       "0   -0.057233 -0.035856  0.135278  0.002477  0.146141  0.178695   0.084429   \n",
       "1    0.001976  0.238134  0.339350  0.286618  0.275007  0.245157   0.239952   \n",
       "2   -0.081024  0.116116  0.107546  0.170245  0.102492 -0.020788   0.096279   \n",
       "3    0.045985  0.261031  0.329102  0.199880  0.302768  0.097077   0.181323   \n",
       "4    0.033499 -0.082246 -0.015816 -0.024990 -0.079020 -0.054308  -0.072225   \n",
       "..        ...       ...       ...       ...       ...       ...        ...   \n",
       "95  -0.242224 -0.408336 -0.286262 -0.338249 -0.300479 -0.194393  -0.308676   \n",
       "96   0.159160  0.239797  0.268892  0.260458  0.118440  0.191754   0.201568   \n",
       "97  -0.706596 -0.968875 -1.034486 -1.045733 -1.152538 -0.791070  -0.967616   \n",
       "98   0.490704  0.562964  0.570567  0.642213  0.762485  0.485723   0.571312   \n",
       "99  -0.256727  0.150762  0.070153  0.220974  0.190441  0.050308   0.127630   \n",
       "\n",
       "    Malebranche   Russell     Moore  ...   Husserl  Heidegger      Kant  \\\n",
       "0      0.048213  0.034171  0.085857  ...  0.053067  -0.073974  0.131873   \n",
       "1      0.205914  0.308522  0.452471  ...  0.259487   0.177385  0.422005   \n",
       "2      0.094581 -0.000540 -0.022048  ... -0.162725  -0.208678  0.000986   \n",
       "3      0.182669  0.267450  0.316969  ...  0.218256   0.159276  0.383916   \n",
       "4     -0.011775  0.041102 -0.028686  ... -0.045312  -0.049938 -0.035607   \n",
       "..          ...       ...       ...  ...       ...        ...       ...   \n",
       "95    -0.238696 -0.309939 -0.388188  ... -0.368592  -0.351038 -0.470934   \n",
       "96     0.269123  0.319498  0.235701  ...  0.241985   0.147484  0.274022   \n",
       "97    -0.993283 -0.947301 -0.961409  ... -0.865018  -0.773746 -1.052088   \n",
       "98     0.615820  0.398633  0.454528  ...  0.494369   0.460401  0.591039   \n",
       "99     0.104206  0.151964  0.174622  ...  0.255809   0.248059  0.366559   \n",
       "\n",
       "      Fichte     Hegel      Marx     Lenin     Smith   Ricardo    Keynes  \n",
       "0   0.141297  0.039115 -0.107477 -0.052790 -0.018223  0.050650  0.154693  \n",
       "1   0.357628  0.329084 -0.084561  0.159553  0.013023  0.045171  0.243154  \n",
       "2   0.047838 -0.002985  0.155051 -0.009865  0.141184  0.157342 -0.034063  \n",
       "3   0.343544  0.604888  0.332015  0.064504  0.332987  0.473129  0.238083  \n",
       "4  -0.024787 -0.088545  0.104897  0.102483  0.050743  0.047965 -0.022576  \n",
       "..       ...       ...       ...       ...       ...       ...       ...  \n",
       "95 -0.419143 -0.493638 -0.612709 -0.267704 -0.599091 -1.014696 -0.660084  \n",
       "96  0.245290  0.204158  0.230544  0.180670  0.277257  0.256874  0.289870  \n",
       "97 -0.960479 -0.969429 -0.721648 -0.482232 -0.853643 -0.979455 -0.728012  \n",
       "98  0.525238  0.690382  0.496059  0.212081  0.562301  0.776241  0.431956  \n",
       "99  0.205113  0.431270 -0.367297 -0.081992 -0.587495 -0.696623 -0.174922  \n",
       "\n",
       "[100 rows x 29 columns]"
      ]
     },
     "execution_count": 146,
     "metadata": {},
     "output_type": "execute_result"
    }
   ],
   "source": [
    "centroids_df"
   ]
  },
  {
   "cell_type": "code",
   "execution_count": 58,
   "metadata": {},
   "outputs": [],
   "source": [
    "# Then we start mapping these centroids onto 2d space\n",
    "\n",
    "pca = PCA(n_components=2)\n",
    "reduced = pca.fit_transform(centroids_df.values.T)"
   ]
  },
  {
   "cell_type": "code",
   "execution_count": 60,
   "metadata": {},
   "outputs": [],
   "source": [
    "# This section helps color the names of philosphers by their school\n",
    "school_author = {}\n",
    "school_color = {}\n",
    "color = ['b', 'orange', 'm', 'c', 'y', 'g', 'r', 'gray', 'k']\n",
    "\n",
    "for school in modern_df.school.unique():\n",
    "    authors = modern_df[modern_df.school == school]['author'].unique()\n",
    "    school_author[school] = authors\n",
    "\n",
    "school_author['nihilism'] = ['Nietzsche']\n",
    "school_list = list(school_author.keys())\n",
    "    \n",
    "for i in range(len(school_list)):\n",
    "    school_color[school_list[i]] = color[i]\n",
    "\n",
    "def author_color(author):\n",
    "    school = ''\n",
    "    color = 'black'\n",
    "    for k, v in school_author.items():\n",
    "        if author in v:\n",
    "            school = k\n",
    "            color = school_color[school]\n",
    "    return color"
   ]
  },
  {
   "cell_type": "code",
   "execution_count": 62,
   "metadata": {},
   "outputs": [
    {
     "data": {
      "image/png": "[encoded data removed]",
      "text/plain": [
       "<Figure size 1152x864 with 1 Axes>"
      ]
     },
     "metadata": {},
     "output_type": "display_data"
    }
   ],
   "source": [
    "# plotting all philosophers onto 2d space\n",
    "authors = centroids_df.columns.to_numpy()\n",
    "numAuthors = len(authors)\n",
    "\n",
    "fig = plt.figure(figsize = (16,12))\n",
    "ax = fig.add_subplot(111)\n",
    "ax.set_frame_on(False)\n",
    "plt.scatter(t[:, 0], t[:, 1], alpha = 0)\n",
    "for i, word in enumerate(authors):\n",
    "    color = author_color(word)\n",
    "    if word == 'Nietzsche':\n",
    "        size = 30\n",
    "    else:\n",
    "        size=18\n",
    "    ax.annotate(word, (t[:, 0][i],t[:, 1][i]), size=size, horizontalalignment='center', color=color)\n",
    "plt.xticks(())\n",
    "plt.yticks(())\n",
    "#plt.title('TSNE for Word Embedding Centroids of Each Author', size=30)\n",
    "plt.show()"
   ]
  },
  {
   "cell_type": "markdown",
   "metadata": {},
   "source": [
    "# Cheking the semantic space of Doc2Vec"
   ]
  },
  {
   "cell_type": "code",
   "execution_count": 6,
   "metadata": {},
   "outputs": [],
   "source": [
    "nietzsche_df['author'] = ['Nietzsche']*nietzsche_df.shape[0]"
   ]
  },
  {
   "cell_type": "code",
   "execution_count": 7,
   "metadata": {},
   "outputs": [
    {
     "data": {
      "text/html": [
       "<div>\n",
       "<style scoped>\n",
       "    .dataframe tbody tr th:only-of-type {\n",
       "        vertical-align: middle;\n",
       "    }\n",
       "\n",
       "    .dataframe tbody tr th {\n",
       "        vertical-align: top;\n",
       "    }\n",
       "\n",
       "    .dataframe thead th {\n",
       "        text-align: right;\n",
       "    }\n",
       "</style>\n",
       "<table border=\"1\" class=\"dataframe\">\n",
       "  <thead>\n",
       "    <tr style=\"text-align: right;\">\n",
       "      <th></th>\n",
       "      <th>author</th>\n",
       "      <th>normalized_tokens</th>\n",
       "    </tr>\n",
       "  </thead>\n",
       "  <tbody>\n",
       "    <tr>\n",
       "      <th>138921</th>\n",
       "      <td>Merleau-Ponty</td>\n",
       "      <td>[[objective, world, plenum, time]]</td>\n",
       "    </tr>\n",
       "    <tr>\n",
       "      <th>146339</th>\n",
       "      <td>Heidegger</td>\n",
       "      <td>[[hand, dasein, define, ontologically, life, o...</td>\n",
       "    </tr>\n",
       "    <tr>\n",
       "      <th>79595</th>\n",
       "      <td>Popper</td>\n",
       "      <td>[[empirical, method, shall, characterize, meth...</td>\n",
       "    </tr>\n",
       "    <tr>\n",
       "      <th>36942</th>\n",
       "      <td>Malebranche</td>\n",
       "      <td>[[reason, evil, life, affect, soul, good]]</td>\n",
       "    </tr>\n",
       "    <tr>\n",
       "      <th>71942</th>\n",
       "      <td>Quine</td>\n",
       "      <td>[[abstract, lgehra, proceed, readily, relation...</td>\n",
       "    </tr>\n",
       "    <tr>\n",
       "      <th>189984</th>\n",
       "      <td>Hegel</td>\n",
       "      <td>[[stay, appearance, mere, representation, ordi...</td>\n",
       "    </tr>\n",
       "    <tr>\n",
       "      <th>251574</th>\n",
       "      <td>Nietzsche</td>\n",
       "      <td>[[love, man, votary, life]]</td>\n",
       "    </tr>\n",
       "    <tr>\n",
       "      <th>80864</th>\n",
       "      <td>Popper</td>\n",
       "      <td>[[basic, statement, test, statement, like, lan...</td>\n",
       "    </tr>\n",
       "    <tr>\n",
       "      <th>89180</th>\n",
       "      <td>Kripke</td>\n",
       "      <td>[[numb, planet, necessarily, odd, mean, thing,...</td>\n",
       "    </tr>\n",
       "    <tr>\n",
       "      <th>250700</th>\n",
       "      <td>Nietzsche</td>\n",
       "      <td>[[remain, degree, unscientific, science, matt]]</td>\n",
       "    </tr>\n",
       "  </tbody>\n",
       "</table>\n",
       "</div>"
      ],
      "text/plain": [
       "               author                                  normalized_tokens\n",
       "138921  Merleau-Ponty                 [[objective, world, plenum, time]]\n",
       "146339      Heidegger  [[hand, dasein, define, ontologically, life, o...\n",
       "79595          Popper  [[empirical, method, shall, characterize, meth...\n",
       "36942     Malebranche         [[reason, evil, life, affect, soul, good]]\n",
       "71942           Quine  [[abstract, lgehra, proceed, readily, relation...\n",
       "189984          Hegel  [[stay, appearance, mere, representation, ordi...\n",
       "251574      Nietzsche                        [[love, man, votary, life]]\n",
       "80864          Popper  [[basic, statement, test, statement, like, lan...\n",
       "89180          Kripke  [[numb, planet, necessarily, odd, mean, thing,...\n",
       "250700      Nietzsche    [[remain, degree, unscientific, science, matt]]"
      ]
     },
     "execution_count": 7,
     "metadata": {},
     "output_type": "execute_result"
    }
   ],
   "source": [
    "# compiling the Nietzsche corpus and the modern philosophy corpus for easier use later\n",
    "phil_all_df = modern_df[['author', 'normalized_tokens']].append(nietzsche_df[['author', 'normalized_tokens']],\n",
    "                                                               ignore_index=True)\n",
    "\n",
    "phil_all_df.sample(10)"
   ]
  },
  {
   "cell_type": "code",
   "execution_count": 72,
   "metadata": {},
   "outputs": [],
   "source": [
    "# Tagging each sentence by athor name\n",
    "taggedDocs = []\n",
    "for index, row in phil_all_df.iterrows():\n",
    "    taggedDocs.append(gensim.models.doc2vec.LabeledSentence(words = row['normalized_tokens'][0], tags = row['author']))\n",
    "phil_all_df['Tagged'] = taggedDocs"
   ]
  },
  {
   "cell_type": "code",
   "execution_count": 8,
   "metadata": {},
   "outputs": [],
   "source": [
    "# Train D2V model\n",
    "\n",
    "#philD2V = gensim.models.doc2vec.Doc2Vec(phil_all_df['Tagged'], size = 100)\n",
    "#philD2V.save('philD2V')\n",
    "philD2V = gensim.models.Doc2Vec.load('philD2V')"
   ]
  },
  {
   "cell_type": "code",
   "execution_count": 77,
   "metadata": {},
   "outputs": [
    {
     "data": {
      "text/plain": [
       "[('people', 0.8057079315185547),\n",
       " ('woman', 0.740618884563446),\n",
       " ('hisdominions', 0.7344627976417542),\n",
       " ('endear', 0.6883183717727661),\n",
       " ('lot', 0.6856588125228882),\n",
       " ('fellow', 0.6834760308265686),\n",
       " ('reverenced', 0.6811655163764954),\n",
       " ('demiurge', 0.6654059290885925),\n",
       " ('endogamous', 0.6645074486732483),\n",
       " ('citizen', 0.6638640761375427)]"
      ]
     },
     "execution_count": 77,
     "metadata": {},
     "output_type": "execute_result"
    }
   ],
   "source": [
    "# Word Associations\n",
    "philD2V.most_similar('man')"
   ]
  },
  {
   "cell_type": "code",
   "execution_count": 183,
   "metadata": {},
   "outputs": [
    {
     "data": {
      "text/plain": [
       "[('husband', 0.9263443946838379),\n",
       " ('wife', 0.9253075122833252),\n",
       " ('parent', 0.9105281829833984),\n",
       " ('young', 0.8958017826080322),\n",
       " ('marry', 0.8950382471084595),\n",
       " ('servant', 0.8931472301483154),\n",
       " ('child', 0.8898907899856567),\n",
       " ('mother', 0.887130618095398),\n",
       " ('girl', 0.877029538154602),\n",
       " ('fellow', 0.8622715473175049)]"
      ]
     },
     "execution_count": 183,
     "metadata": {},
     "output_type": "execute_result"
    }
   ],
   "source": [
    "philD2V.most_similar('woman')"
   ]
  },
  {
   "cell_type": "code",
   "execution_count": 9,
   "metadata": {},
   "outputs": [
    {
     "data": {
      "text/plain": [
       "[('freedom', 0.7206445932388306),\n",
       " ('capacity', 0.7059760689735413),\n",
       " ('executive', 0.7051065564155579),\n",
       " ('inability', 0.6783374547958374),\n",
       " ('legislative', 0.6742599606513977),\n",
       " ('intelligence', 0.6726275086402893),\n",
       " ('activity', 0.6708846092224121),\n",
       " ('spiritualisation', 0.665083110332489),\n",
       " ('intellect', 0.6625948548316956),\n",
       " ('competition', 0.6608235239982605)]"
      ]
     },
     "execution_count": 9,
     "metadata": {},
     "output_type": "execute_result"
    }
   ],
   "source": [
    "philD2V.most_similar('power')"
   ]
  },
  {
   "cell_type": "code",
   "execution_count": 185,
   "metadata": {},
   "outputs": [
    {
     "data": {
      "text/plain": [
       "[('felicity', 0.6714372038841248),\n",
       " ('struggle', 0.6712887287139893),\n",
       " ('civilization', 0.6643083095550537),\n",
       " ('averse', 0.6617900729179382),\n",
       " ('conveniencies', 0.6594306230545044),\n",
       " ('mankind', 0.6587602496147156),\n",
       " ('transitoriness', 0.6555150151252747),\n",
       " ('destiny', 0.6429023742675781),\n",
       " ('death', 0.6417343020439148),\n",
       " ('strive', 0.6340427994728088)]"
      ]
     },
     "execution_count": 185,
     "metadata": {},
     "output_type": "execute_result"
    }
   ],
   "source": [
    "philD2V.most_similar('life')"
   ]
  },
  {
   "cell_type": "markdown",
   "metadata": {},
   "source": [
    "## Plotting the philosophers in the semantic space of D2V"
   ]
  },
  {
   "cell_type": "code",
   "execution_count": 15,
   "metadata": {},
   "outputs": [],
   "source": [
    "# Computing centroids\n",
    "authors_d2v = {}\n",
    "for author in authors:\n",
    "    ctr = author_centroid(phil_all_df[phil_all_df.author == author]['normalized_tokens'], philD2V)\n",
    "    authors_d2v[author] = ctr"
   ]
  },
  {
   "cell_type": "code",
   "execution_count": 16,
   "metadata": {},
   "outputs": [],
   "source": [
    "# Reducing dimensions\n",
    "centroids_d2v_df = pd.DataFrame.from_dict(authors_d2v)\n",
    "\n",
    "pca_d2v = PCA(n_components=2).fit(centroids_d2v_df.values.T)\n",
    "reduced_d2v = pca_d2v.transform(centroids_d2v_df.values.T)"
   ]
  },
  {
   "cell_type": "code",
   "execution_count": 179,
   "metadata": {},
   "outputs": [
    {
     "data": {
      "image/png": "[encoded data removed]",
      "text/plain": [
       "<Figure size 1152x864 with 1 Axes>"
      ]
     },
     "metadata": {},
     "output_type": "display_data"
    }
   ],
   "source": [
    "# Plot\n",
    "authors = centroids_d2v_df.columns.to_numpy()\n",
    "numAuthors = len(authors)\n",
    "\n",
    "fig = plt.figure(figsize = (16,12))\n",
    "ax = fig.add_subplot(111)\n",
    "ax.set_frame_on(False)\n",
    "plt.scatter(reduced_d2v[:, 0], reduced_d2v[:, 1], alpha = 0)\n",
    "for i, word in enumerate(authors):\n",
    "    color = author_color(word)\n",
    "    if word == 'Nietzsche':\n",
    "        size = 30\n",
    "    else:\n",
    "        size=18\n",
    "    ax.annotate(word, (reduced_d2v[:, 0][i],reduced_d2v[:, 1][i]), size=size, horizontalalignment='center', color=color)\n",
    "plt.xticks(())\n",
    "plt.yticks(())\n",
    "#plt.title('TSNE for Word Embedding Centroids of Each Author', size=30)\n",
    "plt.show()"
   ]
  },
  {
   "cell_type": "markdown",
   "metadata": {},
   "source": [
    "# Heatmaps - for studying pair differences"
   ]
  },
  {
   "cell_type": "code",
   "execution_count": 42,
   "metadata": {},
   "outputs": [],
   "source": [
    "heatmapMatrix = []\n",
    "authors = phil_all_df.author.unique()\n",
    "\n",
    "for tagOuter in authors:\n",
    "    column = []\n",
    "    tagVec = centroids_d2v_df[tagOuter].to_numpy().reshape(1,-1)\n",
    "    for tagInner in authors:\n",
    "        cos = sklearn.metrics.pairwise.cosine_similarity(tagVec, centroids_d2v_df[tagInner].to_numpy().reshape(1,-1))\n",
    "        column.append(cos)\n",
    "    heatmapMatrix.append(column)\n",
    "\n",
    "heatmapMatrix = np.array(heatmapMatrix)"
   ]
  },
  {
   "cell_type": "code",
   "execution_count": 43,
   "metadata": {},
   "outputs": [],
   "source": [
    "heatmapMatrix = heatmapMatrix.reshape(29,29)"
   ]
  },
  {
   "cell_type": "code",
   "execution_count": 45,
   "metadata": {},
   "outputs": [
    {
     "data": {
      "image/png": "[encoded data removed]",
      "text/plain": [
       "<Figure size 864x576 with 2 Axes>"
      ]
     },
     "metadata": {
      "needs_background": "light"
     },
     "output_type": "display_data"
    }
   ],
   "source": [
    "fig, ax = plt.subplots(figsize=(12,8))\n",
    "sns.heatmap(heatmapMatrix, xticklabels=authors, yticklabels=authors, ax=ax, cmap='terrain')\n",
    "plt.title(\"Heatmap for All Philosophers in D2V\", size=20)\n",
    "plt.xlabel('Cosine Similarity of Centroid')\n",
    "plt.ylabel('Cosine Similarity of Centroid');\n",
    "# This is too messy, need a smaller set of philosophers"
   ]
  },
  {
   "cell_type": "code",
   "execution_count": 30,
   "metadata": {},
   "outputs": [],
   "source": [
    "# Collect German philosophers from the corpus\n",
    "german_phil = ['Leibniz','Fichte','Hegel','Marx','Nietzsche',  'Husserl', 'Heidegger']"
   ]
  },
  {
   "cell_type": "code",
   "execution_count": 31,
   "metadata": {},
   "outputs": [],
   "source": [
    "heatmapMatrix = []\n",
    "\n",
    "for tagOuter in german_phil:\n",
    "    column = []\n",
    "    tagVec = centroids_d2v_df[tagOuter].to_numpy().reshape(1,-1)\n",
    "    for tagInner in german_phil:\n",
    "        cos = sklearn.metrics.pairwise.cosine_similarity(tagVec, centroids_d2v_df[tagInner].to_numpy().reshape(1,-1))\n",
    "        column.append(cos)\n",
    "    heatmapMatrix.append(column)\n",
    "\n",
    "heatmapMatrix = np.array(heatmapMatrix)"
   ]
  },
  {
   "cell_type": "code",
   "execution_count": 32,
   "metadata": {},
   "outputs": [],
   "source": [
    "heatmapMatrix = heatmapMatrix.reshape(7,7)"
   ]
  },
  {
   "cell_type": "code",
   "execution_count": 40,
   "metadata": {},
   "outputs": [
    {
     "data": {
      "image/png": "[encoded data removed]",
      "text/plain": [
       "<Figure size 864x576 with 2 Axes>"
      ]
     },
     "metadata": {
      "needs_background": "light"
     },
     "output_type": "display_data"
    }
   ],
   "source": [
    "# Plotting heatmap comparing the likeness of German philosophers\n",
    "fig, ax = plt.subplots(figsize=(12,8))\n",
    "sns.heatmap(heatmapMatrix, xticklabels=german_phil, yticklabels=german_phil, ax=ax)\n",
    "plt.title(\"Heatmap for German Philosophers in D2V\", size=20)\n",
    "plt.xlabel('Cosine Similarity of Centroid')\n",
    "plt.ylabel('Cosine Similarity of Centroid');"
   ]
  },
  {
   "cell_type": "markdown",
   "metadata": {},
   "source": [
    "# Projection on Google News Embeddings"
   ]
  },
  {
   "cell_type": "code",
   "execution_count": 133,
   "metadata": {},
   "outputs": [],
   "source": [
    "# Reference: https://mccormickml.com/2016/04/12/googles-pretrained-word2vec-model-in-python/ \n",
    "# File download: https://drive.google.com/file/d/0B7XkCwpI5KDYNlNUTTlSS21pQmM/edit\n",
    "\n",
    "# Load Google's pre-trained Word2Vec model.\n",
    "ggmodel = gensim.models.KeyedVectors.load_word2vec_format('data/GoogleNews-vectors-negative300.bin.gz', binary=True, encoding='latin-1')"
   ]
  },
  {
   "cell_type": "code",
   "execution_count": 137,
   "metadata": {},
   "outputs": [
    {
     "data": {
      "text/plain": [
       "[('Power', 0.5925928354263306),\n",
       " ('electricity', 0.5807569026947021),\n",
       " ('Conscientiously_wield', 0.5534924268722534),\n",
       " ('electicity', 0.5028905868530273),\n",
       " ('power.The', 0.5000944137573242),\n",
       " ('ChemGenex_harnesses', 0.4956178069114685),\n",
       " ('Inguri_hydroelectric', 0.4920346140861511),\n",
       " ('energy', 0.48809513449668884),\n",
       " ('electricy', 0.48531195521354675),\n",
       " ('NTSB_Airliner_engines', 0.48415496945381165)]"
      ]
     },
     "execution_count": 137,
     "metadata": {},
     "output_type": "execute_result"
    }
   ],
   "source": [
    "# word associations\n",
    "ggmodel.most_similar('power')"
   ]
  },
  {
   "cell_type": "code",
   "execution_count": 182,
   "metadata": {},
   "outputs": [
    {
     "data": {
      "text/plain": [
       "[('lives', 0.6027060747146606),\n",
       " ('chiseled_burnished_refined', 0.5310098528862),\n",
       " ('Interaction_enriches_your', 0.4961995780467987),\n",
       " ('Shanda_Interaction_enriches', 0.49457845091819763),\n",
       " ('Life', 0.4814741611480713),\n",
       " ('Fayaz_Wani_reports', 0.4636700749397278),\n",
       " ('lifestyle', 0.44911327958106995),\n",
       " ('joys_sorrows', 0.44626230001449585),\n",
       " ('humdrum_existence', 0.44414761662483215),\n",
       " ('earthly_existence', 0.4437880218029022)]"
      ]
     },
     "execution_count": 182,
     "metadata": {},
     "output_type": "execute_result"
    }
   ],
   "source": [
    "ggmodel.most_similar('life')"
   ]
  },
  {
   "cell_type": "code",
   "execution_count": 138,
   "metadata": {},
   "outputs": [
    {
     "data": {
      "text/plain": [
       "[('woman', 0.7664012312889099),\n",
       " ('boy', 0.6824870109558105),\n",
       " ('teenager', 0.6586930751800537),\n",
       " ('teenage_girl', 0.6147903203964233),\n",
       " ('girl', 0.5921714305877686),\n",
       " ('suspected_purse_snatcher', 0.571636438369751),\n",
       " ('robber', 0.5585119128227234),\n",
       " ('Robbery_suspect', 0.5584409236907959),\n",
       " ('teen_ager', 0.5549196004867554),\n",
       " ('men', 0.5489763021469116)]"
      ]
     },
     "execution_count": 138,
     "metadata": {},
     "output_type": "execute_result"
    }
   ],
   "source": [
    "ggmodel.most_similar('man')"
   ]
  },
  {
   "cell_type": "code",
   "execution_count": 139,
   "metadata": {},
   "outputs": [
    {
     "data": {
      "text/plain": [
       "[('man', 0.7664012312889099),\n",
       " ('girl', 0.7494640946388245),\n",
       " ('teenage_girl', 0.7336829900741577),\n",
       " ('teenager', 0.631708562374115),\n",
       " ('lady', 0.6288785934448242),\n",
       " ('teenaged_girl', 0.6141784191131592),\n",
       " ('mother', 0.607630729675293),\n",
       " ('policewoman', 0.6069462299346924),\n",
       " ('boy', 0.5975908041000366),\n",
       " ('Woman', 0.5770983099937439)]"
      ]
     },
     "execution_count": 139,
     "metadata": {},
     "output_type": "execute_result"
    }
   ],
   "source": [
    "ggmodel.most_similar('woman')"
   ]
  },
  {
   "cell_type": "markdown",
   "metadata": {},
   "source": [
    "## Projection"
   ]
  },
  {
   "cell_type": "code",
   "execution_count": 140,
   "metadata": {},
   "outputs": [],
   "source": [
    "# Centroid computation\n",
    "authors_gg = {}\n",
    "for author in authors:\n",
    "    ctr = author_centroid(phil_all_df[phil_all_df.author == author]['normalized_tokens'], ggmodel)\n",
    "    authors_gg[author] = ctr"
   ]
  },
  {
   "cell_type": "code",
   "execution_count": 180,
   "metadata": {},
   "outputs": [],
   "source": [
    "# Projecting to 2D space\n",
    "centroids_gg_df = pd.DataFrame.from_dict(authors_gg)\n",
    "\n",
    "pca_gg = PCA(n_components=2)\n",
    "reduced_gg = pca.fit_transform(centroids_gg_df.values.T)"
   ]
  },
  {
   "cell_type": "code",
   "execution_count": 181,
   "metadata": {},
   "outputs": [
    {
     "data": {
      "image/png": "[encoded data removed]",
      "text/plain": [
       "<Figure size 1152x864 with 1 Axes>"
      ]
     },
     "metadata": {},
     "output_type": "display_data"
    }
   ],
   "source": [
    "# Plot\n",
    "authors = centroids_gg_df.columns.to_numpy()\n",
    "numAuthors = len(authors)\n",
    "\n",
    "fig = plt.figure(figsize = (16,12))\n",
    "ax = fig.add_subplot(111)\n",
    "ax.set_frame_on(False)\n",
    "plt.scatter(reduced_gg[:, 0], reduced_gg[:, 1], alpha = 0)\n",
    "for i, word in enumerate(authors):\n",
    "    color = author_color(word)\n",
    "    if word == 'Nietzsche':\n",
    "        size = 30\n",
    "    else:\n",
    "        size=18\n",
    "    ax.annotate(word, (reduced_gg[:, 0][i],reduced_gg[:, 1][i]), size=size, horizontalalignment='center', color=color)\n",
    "plt.xticks(())\n",
    "plt.yticks(())\n",
    "#plt.title('TSNE for Word Embedding Centroids of Each Author', size=30)\n",
    "plt.show()"
   ]
  },
  {
   "cell_type": "markdown",
   "metadata": {},
   "source": [
    "# A comparison of early and late Nietzsche"
   ]
  },
  {
   "cell_type": "code",
   "execution_count": 188,
   "metadata": {},
   "outputs": [],
   "source": [
    "# Two distinct W2V that take (1) Nietzsche's work before 1879 and (2) after.\n",
    "#earlyW2V = gensim.models.word2vec.Word2Vec(nietzsche_df[nietzsche_df.after_1879==False]['normalized_tokens'].sum())\n",
    "#lateW2V = gensim.models.word2vec.Word2Vec(nietzsche_df[nietzsche_df.after_1879==True]['normalized_tokens'].sum())\n",
    "earlyW2V = gensim.models.Word2Vec.load('early_nietzsche_w2v')\n",
    "lateW2V = gensim.models.Word2Vec.load('late_nietzsche_w2v')"
   ]
  },
  {
   "cell_type": "code",
   "execution_count": 189,
   "metadata": {},
   "outputs": [],
   "source": [
    "#earlyW2V.save('early_nietzsche_w2v')\n",
    "#lateW2V.save('late_nietzsche_w2v')"
   ]
  },
  {
   "cell_type": "code",
   "execution_count": 190,
   "metadata": {},
   "outputs": [
    {
     "data": {
      "text/plain": [
       "[('lie', 0.9999335408210754),\n",
       " ('appear', 0.9999294877052307),\n",
       " ('remain', 0.9999268651008606),\n",
       " ('mean', 0.9999247789382935),\n",
       " ('freedom', 0.9999239444732666),\n",
       " ('apollonian', 0.9999235272407532),\n",
       " ('period', 0.9999231100082397),\n",
       " ('certain', 0.9999209642410278),\n",
       " ('attain', 0.9999197125434875),\n",
       " ('accord', 0.9999196529388428)]"
      ]
     },
     "execution_count": 190,
     "metadata": {},
     "output_type": "execute_result"
    }
   ],
   "source": [
    "# Word Associations\n",
    "earlyW2V.most_similar('power')"
   ]
  },
  {
   "cell_type": "code",
   "execution_count": 194,
   "metadata": {},
   "outputs": [
    {
     "data": {
      "text/plain": [
       "[('gift', 0.999910295009613),\n",
       " ('turn', 0.999907910823822),\n",
       " ('tell', 0.9999068975448608),\n",
       " ('picture', 0.9999005794525146),\n",
       " ('impulse', 0.99989914894104),\n",
       " ('element', 0.9998987913131714),\n",
       " ('able', 0.9998975992202759),\n",
       " ('require', 0.9998973608016968),\n",
       " ('necessary', 0.999896764755249),\n",
       " ('live', 0.9998962879180908)]"
      ]
     },
     "execution_count": 194,
     "metadata": {},
     "output_type": "execute_result"
    }
   ],
   "source": [
    "earlyW2V.most_similar('life')"
   ]
  },
  {
   "cell_type": "code",
   "execution_count": 193,
   "metadata": {},
   "outputs": [
    {
     "data": {
      "text/plain": [
       "[('turn', 0.9999016523361206),\n",
       " ('rule', 0.9998881220817566),\n",
       " ('look', 0.9998881220817566),\n",
       " ('socrates', 0.9998868703842163),\n",
       " ('influence', 0.9998830556869507),\n",
       " ('myth', 0.999879002571106),\n",
       " ('small', 0.9998787045478821),\n",
       " ('picture', 0.9998780488967896),\n",
       " ('force', 0.9998769760131836),\n",
       " ('appear', 0.9998769760131836)]"
      ]
     },
     "execution_count": 193,
     "metadata": {},
     "output_type": "execute_result"
    }
   ],
   "source": [
    "earlyW2V.most_similar('man')"
   ]
  },
  {
   "cell_type": "code",
   "execution_count": 192,
   "metadata": {},
   "outputs": [
    {
     "data": {
      "text/plain": [
       "[('hand', 0.9999219179153442),\n",
       " ('wisdom', 0.9999209642410278),\n",
       " ('turn', 0.9999208450317383),\n",
       " ('consider', 0.9999204874038696),\n",
       " ('rise', 0.9999196529388428),\n",
       " ('noble', 0.9999195337295532),\n",
       " ('schopenhauer', 0.9999189376831055),\n",
       " ('require', 0.999918520450592),\n",
       " ('seek', 0.9999181628227234),\n",
       " ('bear', 0.9999178647994995)]"
      ]
     },
     "execution_count": 192,
     "metadata": {},
     "output_type": "execute_result"
    }
   ],
   "source": [
    "earlyW2V.most_similar('woman')"
   ]
  },
  {
   "cell_type": "code",
   "execution_count": 191,
   "metadata": {},
   "outputs": [
    {
     "data": {
      "text/plain": [
       "[('feel', 0.9934930801391602),\n",
       " ('strong', 0.9883769750595093),\n",
       " ('individual', 0.9877122640609741),\n",
       " ('instinct', 0.986525297164917),\n",
       " ('increase', 0.9864629507064819),\n",
       " ('self', 0.986402153968811),\n",
       " ('great', 0.9863210916519165),\n",
       " ('mean', 0.9858720302581787),\n",
       " ('kind', 0.9851889610290527),\n",
       " ('life', 0.9841554164886475)]"
      ]
     },
     "execution_count": 191,
     "metadata": {},
     "output_type": "execute_result"
    }
   ],
   "source": [
    "lateW2V.most_similar('power')"
   ]
  },
  {
   "cell_type": "code",
   "execution_count": 195,
   "metadata": {},
   "outputs": [
    {
     "data": {
      "text/plain": [
       "[('individual', 0.9943383932113647),\n",
       " ('mean', 0.9942817687988281),\n",
       " ('condition', 0.9935892224311829),\n",
       " ('form', 0.9934338927268982),\n",
       " ('fundamental', 0.9930564761161804),\n",
       " ('end', 0.9926079511642456),\n",
       " ('degree', 0.9925733208656311),\n",
       " ('kind', 0.9923549890518188),\n",
       " ('general', 0.9923189878463745),\n",
       " ('increase', 0.9922922849655151)]"
      ]
     },
     "execution_count": 195,
     "metadata": {},
     "output_type": "execute_result"
    }
   ],
   "source": [
    "lateW2V.most_similar('life')"
   ]
  },
  {
   "cell_type": "code",
   "execution_count": 196,
   "metadata": {},
   "outputs": [
    {
     "data": {
      "text/plain": [
       "[('nature', 0.9892473816871643),\n",
       " ('thing', 0.9883625507354736),\n",
       " ('conscience', 0.9881168007850647),\n",
       " ('regard', 0.9875966310501099),\n",
       " ('human', 0.9873403906822205),\n",
       " ('call', 0.9869978427886963),\n",
       " ('natured', 0.9866329431533813),\n",
       " ('hold', 0.9861787557601929),\n",
       " ('bad', 0.986143946647644),\n",
       " ('taste', 0.9858584403991699)]"
      ]
     },
     "execution_count": 196,
     "metadata": {},
     "output_type": "execute_result"
    }
   ],
   "source": [
    "lateW2V.most_similar('man')"
   ]
  },
  {
   "cell_type": "code",
   "execution_count": 197,
   "metadata": {},
   "outputs": [
    {
     "data": {
      "text/plain": [
       "[('child', 0.997894287109375),\n",
       " ('want', 0.9973326921463013),\n",
       " ('one', 0.9972632527351379),\n",
       " ('learn', 0.9965379238128662),\n",
       " ('well', 0.9965269565582275),\n",
       " ('loveth', 0.9963738918304443),\n",
       " ('neighbour', 0.9960241317749023),\n",
       " ('young', 0.9959086179733276),\n",
       " ('hath', 0.9958542585372925),\n",
       " ('enemy', 0.9958357810974121)]"
      ]
     },
     "execution_count": 197,
     "metadata": {},
     "output_type": "execute_result"
    }
   ],
   "source": [
    "lateW2V.most_similar('woman')"
   ]
  },
  {
   "cell_type": "code",
   "execution_count": null,
   "metadata": {},
   "outputs": [],
   "source": []
  }
 ],
 "metadata": {
  "kernelspec": {
   "display_name": "Python 3",
   "language": "python",
   "name": "python3"
  },
  "language_info": {
   "codemirror_mode": {
    "name": "ipython",
    "version": 3
   },
   "file_extension": ".py",
   "mimetype": "text/x-python",
   "name": "python",
   "nbconvert_exporter": "python",
   "pygments_lexer": "ipython3",
   "version": "3.8.5"
  }
 },
 "nbformat": 4,
 "nbformat_minor": 4
}
