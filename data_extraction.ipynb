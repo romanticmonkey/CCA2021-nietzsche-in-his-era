{
 "cells": [
  {
   "cell_type": "code",
   "execution_count": 1,
   "metadata": {},
   "outputs": [],
   "source": [
    "import pandas as pd\n",
    "import numpy as numpy\n",
    "import re\n",
    "import os"
   ]
  },
  {
   "cell_type": "markdown",
   "metadata": {},
   "source": [
    "# Project Gutenberg - Nietzsche's English Text"
   ]
  },
  {
   "cell_type": "code",
   "execution_count": 11,
   "metadata": {},
   "outputs": [],
   "source": [
    "# This function reads single sentences from a book file\n",
    "def read_book(book_dir):\n",
    "    book_name = book_dir[(book_dir.rfind('/')+1):-4]\n",
    "    \n",
    "    book = open(book_dir).read()\n",
    "    df = pd.DataFrame({'text':[], 'book':[]})\n",
    "    paragraphs = [t for t in book.split('\\n\\n') if len(t) > 40]\n",
    "    \n",
    "    for p in paragraphs:\n",
    "        p = re.sub(r'\\n', ' ', p)\n",
    "        s = re.split(r'(?<!\\w\\.\\w.)(?<![A-Z][a-z]\\.)(?<=\\.|\\?)\\s', p)\n",
    "        for sentence in s:\n",
    "            if len(sentence) > 0:\n",
    "                sentence = sentence.strip()\n",
    "                sentence = re.sub(r'[ \\t]{3,}', ' ', sentence)\n",
    "                sentence = sentence.replace('--', '')\n",
    "                sentence = re.sub(r'[_\\\"\\“\\”—]+', '', sentence)\n",
    "                sentence = sentence.replace('.', '. ')\n",
    "                df = df.append({'text':sentence, 'book':book_name}, ignore_index=True)\n",
    "            \n",
    "    return df"
   ]
  },
  {
   "cell_type": "code",
   "execution_count": 12,
   "metadata": {},
   "outputs": [
    {
     "data": {
      "text/plain": [
       "19"
      ]
     },
     "execution_count": 12,
     "metadata": {},
     "output_type": "execute_result"
    }
   ],
   "source": [
    "# Reading all files downloaded from Project Gutenberg\n",
    "file_location = 'data/Project_Gutenberg/'\n",
    "all_files = os.listdir(file_location)\n",
    "txt_files = list(filter(lambda x: x[-4:] == '.txt', all_files))\n",
    "len(txt_files)"
   ]
  },
  {
   "cell_type": "code",
   "execution_count": 13,
   "metadata": {},
   "outputs": [],
   "source": [
    "# Storing all Nietzsche's work in one dataframe\n",
    "books_df = pd.DataFrame({'text':[], 'book':[]})\n",
    "\n",
    "for f in txt_files:\n",
    "    f = file_location + f\n",
    "    df = read_book(f)\n",
    "    books_df = books_df.append(df, ignore_index=True)"
   ]
  },
  {
   "cell_type": "code",
   "execution_count": 14,
   "metadata": {},
   "outputs": [],
   "source": [
    "# filtering out titles/sentences that are too short\n",
    "books_df = books_df[books_df.text.apply(lambda x: True if len(x)>20 else False)]\n",
    "books_df.reset_index(inplace=True, drop=True)"
   ]
  },
  {
   "cell_type": "code",
   "execution_count": 15,
   "metadata": {},
   "outputs": [
    {
     "data": {
      "text/html": [
       "<div>\n",
       "<style scoped>\n",
       "    .dataframe tbody tr th:only-of-type {\n",
       "        vertical-align: middle;\n",
       "    }\n",
       "\n",
       "    .dataframe tbody tr th {\n",
       "        vertical-align: top;\n",
       "    }\n",
       "\n",
       "    .dataframe thead th {\n",
       "        text-align: right;\n",
       "    }\n",
       "</style>\n",
       "<table border=\"1\" class=\"dataframe\">\n",
       "  <thead>\n",
       "    <tr style=\"text-align: right;\">\n",
       "      <th></th>\n",
       "      <th>text</th>\n",
       "      <th>book</th>\n",
       "    </tr>\n",
       "  </thead>\n",
       "  <tbody>\n",
       "    <tr>\n",
       "      <th>25014</th>\n",
       "      <td>The neglect and the surrender of Life and of w...</td>\n",
       "      <td>will1-2</td>\n",
       "    </tr>\n",
       "    <tr>\n",
       "      <th>17397</th>\n",
       "      <td>If I should, perhaps, become more garrulous th...</td>\n",
       "      <td>thoughts1</td>\n",
       "    </tr>\n",
       "    <tr>\n",
       "      <th>2274</th>\n",
       "      <td>In the art of spurring exhausted creatures bac...</td>\n",
       "      <td>contra_wagner</td>\n",
       "    </tr>\n",
       "    <tr>\n",
       "      <th>260</th>\n",
       "      <td>Originally, and above all in the time of the m...</td>\n",
       "      <td>antichrist</td>\n",
       "    </tr>\n",
       "    <tr>\n",
       "      <th>18879</th>\n",
       "      <td>Why not a poet or orator?</td>\n",
       "      <td>thoughts2</td>\n",
       "    </tr>\n",
       "    <tr>\n",
       "      <th>10481</th>\n",
       "      <td>But so long as its influence lasts it should e...</td>\n",
       "      <td>human1</td>\n",
       "    </tr>\n",
       "    <tr>\n",
       "      <th>20897</th>\n",
       "      <td>For the words, it is argued, are as much noble...</td>\n",
       "      <td>tragedy</td>\n",
       "    </tr>\n",
       "    <tr>\n",
       "      <th>6443</th>\n",
       "      <td>They are recognised by the fact that any such ...</td>\n",
       "      <td>eccehomo</td>\n",
       "    </tr>\n",
       "    <tr>\n",
       "      <th>23837</th>\n",
       "      <td>Just as the sharp demarcation of nations gener...</td>\n",
       "      <td>will1-2</td>\n",
       "    </tr>\n",
       "    <tr>\n",
       "      <th>12939</th>\n",
       "      <td>A KIND OF REST AND CONTEMPLATION. Beware lest ...</td>\n",
       "      <td>human2</td>\n",
       "    </tr>\n",
       "  </tbody>\n",
       "</table>\n",
       "</div>"
      ],
      "text/plain": [
       "                                                    text           book\n",
       "25014  The neglect and the surrender of Life and of w...        will1-2\n",
       "17397  If I should, perhaps, become more garrulous th...      thoughts1\n",
       "2274   In the art of spurring exhausted creatures bac...  contra_wagner\n",
       "260    Originally, and above all in the time of the m...     antichrist\n",
       "18879                          Why not a poet or orator?      thoughts2\n",
       "10481  But so long as its influence lasts it should e...         human1\n",
       "20897  For the words, it is argued, are as much noble...        tragedy\n",
       "6443   They are recognised by the fact that any such ...       eccehomo\n",
       "23837  Just as the sharp demarcation of nations gener...        will1-2\n",
       "12939  A KIND OF REST AND CONTEMPLATION. Beware lest ...         human2"
      ]
     },
     "execution_count": 15,
     "metadata": {},
     "output_type": "execute_result"
    }
   ],
   "source": [
    "# Checking if there's weird punctuations\n",
    "books_df.sample(10)"
   ]
  },
  {
   "cell_type": "code",
   "execution_count": 16,
   "metadata": {},
   "outputs": [],
   "source": [
    "# matching books to their published year\n",
    "book_year = {'antichrist':1895, 'beyond':1886, 'contra_wagner':1889,\n",
    "            'dawn':1881, 'early_greek':1871, 'eccehomo':1888, 'eduinst':1872, 'homer': 1869,\n",
    "            'human1':1878, 'human2':1880, 'thoughts1': 1874, 'thoughts2':1876, 'twilight':1888, \n",
    "            'will1-2': 1901, 'will3-4': 1901, 'zarathustra': 1883, 'tragedy':1872,\n",
    "            'joyful':1887, 'morals':1887}\n",
    "\n",
    "books_df['year'] = books_df.book.apply(lambda x: book_year[x])"
   ]
  },
  {
   "cell_type": "code",
   "execution_count": 17,
   "metadata": {},
   "outputs": [],
   "source": [
    "# Label: whether the book is published after Nietzsche's resignation from university\n",
    "books_df['after_1879'] = books_df.year.apply(lambda x: 1 if x > 1879 else 0)"
   ]
  },
  {
   "cell_type": "code",
   "execution_count": 18,
   "metadata": {},
   "outputs": [],
   "source": [
    "# Label: if the book is published by Nietzsche's sister\n",
    "elisabeth_published = ['antichrist', 'eccehomo', 'will1-2', 'will3-4']\n",
    "books_df['elisabeth_published'] = books_df.book.apply(lambda x: 1 if x in elisabeth_published else 0)"
   ]
  },
  {
   "cell_type": "code",
   "execution_count": 19,
   "metadata": {},
   "outputs": [],
   "source": [
    "books_df.to_csv('data/nietzsche_gutenberg.csv', index=False)"
   ]
  },
  {
   "cell_type": "code",
   "execution_count": 20,
   "metadata": {},
   "outputs": [
    {
     "data": {
      "text/plain": [
       "(34241, 5)"
      ]
     },
     "execution_count": 20,
     "metadata": {},
     "output_type": "execute_result"
    }
   ],
   "source": [
    "books_df.shape"
   ]
  },
  {
   "cell_type": "markdown",
   "metadata": {},
   "source": [
    "# Other Philosophers"
   ]
  },
  {
   "cell_type": "code",
   "execution_count": 22,
   "metadata": {},
   "outputs": [],
   "source": [
    "# I'd also like to compare Nietzsche to his contemporaries. \n",
    "# A compilation of renowned Western philosopher can be found in this Kaggle dataset:\n",
    "# https://www.kaggle.com/kouroshalizadeh/history-of-philosophy\n",
    "phil_df = pd.read_csv('data/phil_nlp.csv')"
   ]
  },
  {
   "cell_type": "code",
   "execution_count": 30,
   "metadata": {},
   "outputs": [
    {
     "data": {
      "text/plain": [
       "Index(['title', 'author', 'school', 'sentence_spacy', 'sentence_str',\n",
       "       'sentence_length', 'sentence_lowered', 'tokenized_txt',\n",
       "       'lemmatized_str'],\n",
       "      dtype='object')"
      ]
     },
     "execution_count": 30,
     "metadata": {},
     "output_type": "execute_result"
    }
   ],
   "source": [
    "phil_df.columns"
   ]
  },
  {
   "cell_type": "code",
   "execution_count": 32,
   "metadata": {},
   "outputs": [
    {
     "data": {
      "text/plain": [
       "school           author         \n",
       "analytic         Kripke             12480\n",
       "                 Lewis              13120\n",
       "                 Moore               3668\n",
       "                 Popper              4678\n",
       "                 Quine               7373\n",
       "                 Russell             5073\n",
       "                 Wittgenstein        9035\n",
       "aristotle        Aristotle          48779\n",
       "capitalism       Keynes              3411\n",
       "                 Ricardo             3090\n",
       "                 Smith              11693\n",
       "communism        Lenin               4469\n",
       "                 Marx               13490\n",
       "continental      Deleuze            12540\n",
       "                 Derrida             6001\n",
       "                 Foucault           15240\n",
       "empiricism       Berkeley            2734\n",
       "                 Hume                8312\n",
       "                 Locke               8885\n",
       "german_idealism  Fichte              5308\n",
       "                 Hegel              22701\n",
       "                 Kant               14128\n",
       "phenomenology    Heidegger          15239\n",
       "                 Husserl             5742\n",
       "                 Merleau-Ponty       7592\n",
       "plato            Plato              38391\n",
       "rationalism      Descartes           1132\n",
       "                 Leibniz             5027\n",
       "                 Malebranche        12997\n",
       "                 Spinoza             3794\n",
       "stoicism         Epictetus            323\n",
       "                 Marcus Aurelius     2212\n",
       "Name: sentence_str, dtype: int64"
      ]
     },
     "execution_count": 32,
     "metadata": {},
     "output_type": "execute_result"
    }
   ],
   "source": [
    "# A view of schools and authors available in this dataset\n",
    "phil_df.groupby(['school', 'author'])['sentence_str'].count()"
   ]
  },
  {
   "cell_type": "code",
   "execution_count": 44,
   "metadata": {},
   "outputs": [
    {
     "name": "stderr",
     "output_type": "stream",
     "text": [
      "/home/mwang/anaconda3/lib/python3.8/site-packages/pandas/core/frame.py:4163: SettingWithCopyWarning: \n",
      "A value is trying to be set on a copy of a slice from a DataFrame\n",
      "\n",
      "See the caveats in the documentation: https://pandas.pydata.org/pandas-docs/stable/user_guide/indexing.html#returning-a-view-versus-a-copy\n",
      "  return super().drop(\n"
     ]
    },
    {
     "data": {
      "text/html": [
       "<div>\n",
       "<style scoped>\n",
       "    .dataframe tbody tr th:only-of-type {\n",
       "        vertical-align: middle;\n",
       "    }\n",
       "\n",
       "    .dataframe tbody tr th {\n",
       "        vertical-align: top;\n",
       "    }\n",
       "\n",
       "    .dataframe thead th {\n",
       "        text-align: right;\n",
       "    }\n",
       "</style>\n",
       "<table border=\"1\" class=\"dataframe\">\n",
       "  <thead>\n",
       "    <tr style=\"text-align: right;\">\n",
       "      <th></th>\n",
       "      <th>title</th>\n",
       "      <th>author</th>\n",
       "      <th>school</th>\n",
       "      <th>sentence_str</th>\n",
       "      <th>sentence_length</th>\n",
       "      <th>sentence_lowered</th>\n",
       "      <th>tokenized_txt</th>\n",
       "      <th>lemmatized_str</th>\n",
       "    </tr>\n",
       "  </thead>\n",
       "  <tbody>\n",
       "    <tr>\n",
       "      <th>0</th>\n",
       "      <td>Second Treatise On Government</td>\n",
       "      <td>Locke</td>\n",
       "      <td>empiricism</td>\n",
       "      <td>Reader, thou hast here the beginning and end o...</td>\n",
       "      <td>237</td>\n",
       "      <td>reader, thou hast here the beginning and end o...</td>\n",
       "      <td>['reader', 'thou', 'hast', 'here', 'the', 'beg...</td>\n",
       "      <td>reader , thou hast here the beginning and end...</td>\n",
       "    </tr>\n",
       "    <tr>\n",
       "      <th>1</th>\n",
       "      <td>Second Treatise On Government</td>\n",
       "      <td>Locke</td>\n",
       "      <td>empiricism</td>\n",
       "      <td>These, which remain, I hope are sufficient to ...</td>\n",
       "      <td>488</td>\n",
       "      <td>these, which remain, i hope are sufficient to ...</td>\n",
       "      <td>['these', 'which', 'remain', 'hope', 'are', 's...</td>\n",
       "      <td>these , which remain , -PRON- hope be suffici...</td>\n",
       "    </tr>\n",
       "    <tr>\n",
       "      <th>2</th>\n",
       "      <td>Second Treatise On Government</td>\n",
       "      <td>Locke</td>\n",
       "      <td>empiricism</td>\n",
       "      <td>If these papers have that evidence, I flatter ...</td>\n",
       "      <td>444</td>\n",
       "      <td>if these papers have that evidence, i flatter ...</td>\n",
       "      <td>['if', 'these', 'papers', 'have', 'that', 'evi...</td>\n",
       "      <td>if these paper have that evidence , -PRON- fl...</td>\n",
       "    </tr>\n",
       "    <tr>\n",
       "      <th>3</th>\n",
       "      <td>Second Treatise On Government</td>\n",
       "      <td>Locke</td>\n",
       "      <td>empiricism</td>\n",
       "      <td>The king, and body of the nation, have since s...</td>\n",
       "      <td>721</td>\n",
       "      <td>the king, and body of the nation, have since s...</td>\n",
       "      <td>['the', 'king', 'and', 'body', 'of', 'the', 'n...</td>\n",
       "      <td>the king , and body of the nation , have sinc...</td>\n",
       "    </tr>\n",
       "    <tr>\n",
       "      <th>4</th>\n",
       "      <td>Second Treatise On Government</td>\n",
       "      <td>Locke</td>\n",
       "      <td>empiricism</td>\n",
       "      <td>If he think it not worth while to examine his ...</td>\n",
       "      <td>263</td>\n",
       "      <td>if he think it not worth while to examine his ...</td>\n",
       "      <td>['if', 'he', 'think', 'it', 'not', 'worth', 'w...</td>\n",
       "      <td>if -PRON- think -PRON- not worth while to exa...</td>\n",
       "    </tr>\n",
       "  </tbody>\n",
       "</table>\n",
       "</div>"
      ],
      "text/plain": [
       "                           title author      school  \\\n",
       "0  Second Treatise On Government  Locke  empiricism   \n",
       "1  Second Treatise On Government  Locke  empiricism   \n",
       "2  Second Treatise On Government  Locke  empiricism   \n",
       "3  Second Treatise On Government  Locke  empiricism   \n",
       "4  Second Treatise On Government  Locke  empiricism   \n",
       "\n",
       "                                        sentence_str  sentence_length  \\\n",
       "0  Reader, thou hast here the beginning and end o...              237   \n",
       "1  These, which remain, I hope are sufficient to ...              488   \n",
       "2  If these papers have that evidence, I flatter ...              444   \n",
       "3  The king, and body of the nation, have since s...              721   \n",
       "4  If he think it not worth while to examine his ...              263   \n",
       "\n",
       "                                    sentence_lowered  \\\n",
       "0  reader, thou hast here the beginning and end o...   \n",
       "1  these, which remain, i hope are sufficient to ...   \n",
       "2  if these papers have that evidence, i flatter ...   \n",
       "3  the king, and body of the nation, have since s...   \n",
       "4  if he think it not worth while to examine his ...   \n",
       "\n",
       "                                       tokenized_txt  \\\n",
       "0  ['reader', 'thou', 'hast', 'here', 'the', 'beg...   \n",
       "1  ['these', 'which', 'remain', 'hope', 'are', 's...   \n",
       "2  ['if', 'these', 'papers', 'have', 'that', 'evi...   \n",
       "3  ['the', 'king', 'and', 'body', 'of', 'the', 'n...   \n",
       "4  ['if', 'he', 'think', 'it', 'not', 'worth', 'w...   \n",
       "\n",
       "                                      lemmatized_str  \n",
       "0   reader , thou hast here the beginning and end...  \n",
       "1   these , which remain , -PRON- hope be suffici...  \n",
       "2   if these paper have that evidence , -PRON- fl...  \n",
       "3   the king , and body of the nation , have sinc...  \n",
       "4   if -PRON- think -PRON- not worth while to exa...  "
      ]
     },
     "execution_count": 44,
     "metadata": {},
     "output_type": "execute_result"
    }
   ],
   "source": [
    "# Extract modern philosophers from the dataframe\n",
    "exclude_list = ['aristotle', 'plato', 'stoicism']\n",
    "\n",
    "modern_df = phil_df[phil_df.school.apply(lambda x: True if x not in exclude_list else False)]\n",
    "\n",
    "modern_df.drop('sentence_spacy', axis=1, inplace=True)\n",
    "modern_df.reset_index(inplace=True, drop=True)\n",
    "modern_df.head()"
   ]
  },
  {
   "cell_type": "code",
   "execution_count": 45,
   "metadata": {},
   "outputs": [],
   "source": [
    "modern_df.to_csv('data/modern_phil.csv', index=False)"
   ]
  }
 ],
 "metadata": {
  "kernelspec": {
   "display_name": "Python 3",
   "language": "python",
   "name": "python3"
  },
  "language_info": {
   "codemirror_mode": {
    "name": "ipython",
    "version": 3
   },
   "file_extension": ".py",
   "mimetype": "text/x-python",
   "name": "python",
   "nbconvert_exporter": "python",
   "pygments_lexer": "ipython3",
   "version": "3.8.5"
  }
 },
 "nbformat": 4,
 "nbformat_minor": 4
}
